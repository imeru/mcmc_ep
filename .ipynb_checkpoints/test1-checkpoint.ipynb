{
 "metadata": {
  "name": "",
  "signature": "sha256:8768f7c7dfd87a21a39b4b05ef07404e59c00b6865d6ac8b68b5260bc42c8c22"
 },
 "nbformat": 3,
 "nbformat_minor": 0,
 "worksheets": [
  {
   "cells": [
    {
     "cell_type": "code",
     "collapsed": false,
     "input": [
      "\n",
      "# Import relevant modules\n",
      "import numpy as np\n",
      "import pandas as pd\n",
      "import math\n",
      "import os\n",
      "from scipy.stats import triang, norm, truncnorm\n",
      "from runenergyplus import prepare_job_folders, run_eplus\n",
      "import csv\n",
      "\n",
      "\n",
      "#global markup_values_pairs, markup_value_pairs, path, totalarea\n",
      "\n",
      "def tri_logdensity(x, min, max, mode):\n",
      "    loc = min\n",
      "    scale = max - min\n",
      "    c = (mode - min)/scale\n",
      "    log_density = triang.logpdf(x = x, c = c, loc = loc, scale = scale)\n",
      "    return log_density\n",
      "\n",
      "def truncated_normal(myclip_min, myclip_max, mu, sigma, n=1):\n",
      "    a = (myclip_min - mu) / sigma\n",
      "    b = (myclip_max - mu) / sigma\n",
      "    c = truncnorm.rvs(a, b, loc=mu, scale=sigma,size=n)\n",
      "    return c\n",
      "\n",
      "# Priors \n",
      "def prior(param):\n",
      "    ROOF = param[0]\n",
      "    WALL = param[1]\n",
      "    WIN = param[2]\n",
      "    SHGC = param[3]\n",
      "    EPD = param[4]\n",
      "    LPD = param[5]\n",
      "    HSP = param[6]\n",
      "    CSP = param[7]\n",
      "    OCC = param[8]\n",
      "    INF = param[9]\n",
      "    Boiler = param[10]\n",
      "    COP = param[11]\n",
      "\n",
      "    ROOF_prior = tri_logdensity(x = ROOF, min = 0.01, max = 0.25, mode = 0.09667)\n",
      "    WALL_prior = tri_logdensity(x = WALL, min = 0.01, max = 0.25, mode = 0.055)\n",
      "    WIN_prior = tri_logdensity(x = WIN, min = 1, max = 5, mode = 2.792)\n",
      "    SHGC_prior = tri_logdensity(x = SHGC, min = 0.1, max = 0.9, mode = 0.5)\n",
      "    EPD_prior = tri_logdensity(x = EPD, min = 1, max = 70, mode = 22.8)\n",
      "    LPD_prior = tri_logdensity(x = LPD, min = 1, max = 50, mode = 14.5)\n",
      "    HSP_prior = tri_logdensity(x = HSP, min = 17, max = 28, mode = 21)\n",
      "    CSP_prior = tri_logdensity(x = CSP, min = 17, max = 28, mode = 24)\n",
      "    OCC_prior = tri_logdensity(x = OCC, min = 1, max = 50, mode = 23.4)\n",
      "    INF_prior = tri_logdensity(x = INF, min = 0.1, max = 2, mode = 0.675)\n",
      "    Boiler_prior = tri_logdensity(x = Boiler, min = 0.5, max = 0.99, mode = 0.72)\n",
      "    COP_prior = tri_logdensity(x = COP, min = 2, max = 4, mode = 2.65)\n",
      "    return ROOF_prior+WALL_prior+WIN_prior+SHGC_prior+EPD_prior+LPD_prior\\\n",
      "        +HSP_prior+CSP_prior+OCC_prior+INF_prior+Boiler_prior+COP_prior\n",
      "\n",
      "\n",
      "\n",
      "#Likelihood function\n",
      "def likelihood(param):\n",
      "    ROOF = param[0]\n",
      "    WALL = param[1]\n",
      "    WIN = param[2]\n",
      "    SHGC = param[3]\n",
      "    EPD = param[4]\n",
      "    LPD = param[5]\n",
      "    HSP = param[6]\n",
      "    CSP = param[7]\n",
      "    OCC = param[8]\n",
      "    INF = param[9]\n",
      "    Boiler = param[10]\n",
      "    COP = param[11]\n",
      "    \n",
      "    prediction = param[12]\n",
      "        \n",
      "    singlelikelihoods = norm.logpdf(x=y, loc=prediction, scale=sd)\n",
      "    #sumll = sum(singlelikelihoods)\n",
      "    return singlelikelihoods\n",
      "\n",
      "\n",
      "#Posterior \n",
      "def posterior(param):\n",
      "    return likelihood(param) + prior(param)\n",
      "\n",
      "\n",
      "#Proposal function- .tolist:to change numpy.ndarray to list\n",
      "\n",
      "#def proposalfunction(param):\n",
      "#    return abs(np.random.normal(loc=param, scale=[0.02,0.015,0.43,0.1,7,4,1.3,1.3,6.75,0.19,0.5,0.167])).tolist()\n",
      " \n",
      "\n",
      "def proposalfunction(low_limit, upper_limit, mean, sd):\n",
      "    proposal = []\n",
      "    for i in range(0,len(mean)):\n",
      "        proposal.extend(truncated_normal(low_limit[i], upper_limit[i], mean[i], sd[i]).tolist())\n",
      "    return proposal\n",
      "\n",
      "# To make chain list\n",
      "def make_chainlist(list):\n",
      "    chain = []\n",
      "    for item in list:\n",
      "        temp =[item]\n",
      "        chain.append(temp)\n",
      "    return chain\n",
      "\n",
      "\n",
      "    \n",
      "def make_csv(chain):\n",
      "    with open(os.path.join(\"test\", 'chain_ep.csv'), 'wb') as csvfile:\n",
      "        writer = csv.DictWriter(csvfile, fieldnames = ['ROOF','WALL','WIN','SHGC','EPD','LPD',\n",
      "                    'HSP','CSP','OCC','INF','Boiler','COP','EUI'], delimiter = ',')\n",
      "        writer.writeheader()\n",
      "        writer = csv.writer(csvfile)\n",
      "        writer.writerows(chain)\n",
      "\n",
      "def generate_markup_value_pairs(markup, chain):\n",
      "    markup_value_pairs = []\n",
      "    markup_value_pairs.append(dict(zip(markup, chain)))\n",
      "    return markup_value_pairs"
     ],
     "language": "python",
     "metadata": {},
     "outputs": [
      {
       "output_type": "stream",
       "stream": "stderr",
       "text": [
        "C:\\Users\\Hyunwoo\\AppData\\Local\\Enthought\\Canopy\\User\\lib\\site-packages\\pandas\\io\\excel.py:626: UserWarning: Installed openpyxl is not supported at this time. Use >=1.6.1 and <2.0.0.\n",
        "  .format(openpyxl_compat.start_ver, openpyxl_compat.stop_ver))\n"
       ]
      }
     ],
     "prompt_number": 1
    },
    {
     "cell_type": "code",
     "collapsed": false,
     "input": [
      "y = 1.619888\n",
      "sd = 0.43\n",
      "    # Set pathes amd folder\n",
      "template_idf_path = \"test/campusbuilding.idf\"\n",
      "eplus_basic_folder = \"test/basic_files\"\n",
      "output_folder = \"test/out\"\n",
      "#sys.argv[1]\n",
      "\n",
      "startvalue = [0.09667, 0.055, 2.792, 0.5, 22.8, 14.5, 21, 24, 23.4, 0.675, 0.72, 2.65]\n",
      "    # Set the range for proposal function\n",
      "low_limit = [0.01, 0.01, 0.1, 0.1, 1, 1, 17, 17, 1, 0.1, 0.5, 2]\n",
      "upper_limit = [0.5, 0.5, 8, 1, 100, 80, 28, 28, 50, 4, 0.99, 5]\n",
      "sd = [0.02, 0.015, 0.43, 0.1, 7, 4, 1.3, 1.3, 6.75, 0.19, 0.5, 0.167]\n",
      "\n",
      "iterations = 5\n",
      "totalarea = 10336.99\n",
      "count = 1\n",
      "markup = ['@@ROOF@@','@@WALL@@','@@WIN@@', '@@SHGC@@','@@EPD@@','@@LPD@@',\n",
      "            '@@HSP@@','@@CSP@@','@@OCC@@','@@INF@@','@@Boiler@@','@@COP@@']\n"
     ],
     "language": "python",
     "metadata": {},
     "outputs": [],
     "prompt_number": 2
    },
    {
     "cell_type": "code",
     "collapsed": false,
     "input": [
      "import sys\n",
      "import os\n",
      "import shutil\n",
      "import csv\n",
      "from subprocess import call\n",
      "\n",
      "\n",
      "\n",
      "def write_idf(template_path, output_path, markup_value_pairs):\n",
      "    origin = open(template_path, 'r')\n",
      "    new = open(output_path, 'w')\n",
      "    for line in origin:\n",
      "        replaced_line = replace_markup(line, markup_value_pairs)\n",
      "        new.write(replaced_line)\n",
      "    origin.close()\n",
      "    new.close()\n",
      "\n",
      "           \n",
      "def copy_files(orig, dest):\n",
      "    files = os.listdir(orig)\n",
      "    for file_name in files:\n",
      "        file_path = os.path.join(orig, file_name)\n",
      "        shutil.copy(file_path, dest)\n",
      "\n",
      "def prepare_job_folders(output_folder, template_idf_path,\n",
      "                        eplus_basic_folder, markup_value_pairs):\n",
      "    # check output path\n",
      "    if os.path.exists(output_folder):\n",
      "        shutil.rmtree(output_folder)\n",
      "    pathes = []\n",
      "    for index, markup_value_pair in enumerate(markup_value_pairs):\n",
      "        path_to_write = output_folder + \"/\" + str(index)\n",
      "        pathes.append(path_to_write)\n",
      "        output_path = path_to_write + \"/\" + \"in.idf\"\n",
      "        os.makedirs(path_to_write)\n",
      "        copy_files(eplus_basic_folder, path_to_write)\n",
      "        write_idf(template_idf_path, output_path, markup_value_pair)\n",
      "        path = pathes[0]\n",
      "    return path"
     ],
     "language": "python",
     "metadata": {},
     "outputs": [],
     "prompt_number": 4
    },
    {
     "cell_type": "code",
     "collapsed": false,
     "input": [
      "markup_value_pairs = generate_markup_value_pairs(markup,startvalue)\n",
      "markup_value_pairs"
     ],
     "language": "python",
     "metadata": {},
     "outputs": [
      {
       "metadata": {},
       "output_type": "pyout",
       "prompt_number": 5,
       "text": [
        "[{'@@Boiler@@': 0.72,\n",
        "  '@@COP@@': 2.65,\n",
        "  '@@CSP@@': 24,\n",
        "  '@@EPD@@': 22.8,\n",
        "  '@@HSP@@': 21,\n",
        "  '@@INF@@': 0.675,\n",
        "  '@@LPD@@': 14.5,\n",
        "  '@@OCC@@': 23.4,\n",
        "  '@@ROOF@@': 0.09667,\n",
        "  '@@SHGC@@': 0.5,\n",
        "  '@@WALL@@': 0.055,\n",
        "  '@@WIN@@': 2.792}]"
       ]
      }
     ],
     "prompt_number": 5
    },
    {
     "cell_type": "code",
     "collapsed": false,
     "input": [
      "a = dict(zip(['@@ROOF@@','@@WALL@@','@@WIN@@',\n",
      "                                '@@SHGC@@','@@EPD@@','@@LPD@@',\n",
      "                                '@@HSP@@','@@CSP@@','@@OCC@@',\n",
      "                                '@@INF@@','@@Boiler@@','@@COP@@'], startvalue))\n",
      "b = []\n",
      "b.append(a)\n",
      "b"
     ],
     "language": "python",
     "metadata": {},
     "outputs": [
      {
       "metadata": {},
       "output_type": "pyout",
       "prompt_number": 54,
       "text": [
        "[{'@@Boiler@@': 0.72,\n",
        "  '@@COP@@': 2.65,\n",
        "  '@@CSP@@': 24,\n",
        "  '@@EPD@@': 22.8,\n",
        "  '@@HSP@@': 21,\n",
        "  '@@INF@@': 0.675,\n",
        "  '@@LPD@@': 14.5,\n",
        "  '@@OCC@@': 23.4,\n",
        "  '@@ROOF@@': 0.09667,\n",
        "  '@@SHGC@@': 0.5,\n",
        "  '@@WALL@@': 0.055,\n",
        "  '@@WIN@@': 2.792}]"
       ]
      }
     ],
     "prompt_number": 54
    },
    {
     "cell_type": "code",
     "collapsed": false,
     "input": [],
     "language": "python",
     "metadata": {},
     "outputs": [
      {
       "metadata": {},
       "output_type": "pyout",
       "prompt_number": 52,
       "text": [
        "[{'@@Boiler@@': 0.72,\n",
        "  '@@COP@@': 2.65,\n",
        "  '@@CSP@@': 24,\n",
        "  '@@EPD@@': 22.8,\n",
        "  '@@HSP@@': 21,\n",
        "  '@@INF@@': 0.675,\n",
        "  '@@LPD@@': 14.5,\n",
        "  '@@OCC@@': 23.4,\n",
        "  '@@ROOF@@': 0.09667,\n",
        "  '@@SHGC@@': 0.5,\n",
        "  '@@WALL@@': 0.055,\n",
        "  '@@WIN@@': 2.792}]"
       ]
      }
     ],
     "prompt_number": 52
    },
    {
     "cell_type": "code",
     "collapsed": false,
     "input": [
      "dict(zip(markup, startvalue))"
     ],
     "language": "python",
     "metadata": {},
     "outputs": [
      {
       "metadata": {},
       "output_type": "pyout",
       "prompt_number": 18,
       "text": [
        "{'@@Boiler@@': 0.72,\n",
        " '@@COP@@': 2.65,\n",
        " '@@CSP@@': 24,\n",
        " '@@EPD@@': 22.8,\n",
        " '@@HSP@@': 21,\n",
        " '@@INF@@': 0.675,\n",
        " '@@LPD@@': 14.5,\n",
        " '@@OCC@@': 23.4,\n",
        " '@@ROOF@@': 0.09667,\n",
        " '@@SHGC@@': 0.5,\n",
        " '@@WALL@@': 0.055,\n",
        " '@@WIN@@': 2.792}"
       ]
      }
     ],
     "prompt_number": 18
    },
    {
     "cell_type": "code",
     "collapsed": false,
     "input": [
      "markup_value_pairs = generate_markup_value_pairs(markup, startvalue)"
     ],
     "language": "python",
     "metadata": {},
     "outputs": [],
     "prompt_number": 27
    },
    {
     "cell_type": "code",
     "collapsed": false,
     "input": [
      "markup_value_pairs.keys()"
     ],
     "language": "python",
     "metadata": {},
     "outputs": [
      {
       "metadata": {},
       "output_type": "pyout",
       "prompt_number": 28,
       "text": [
        "['@@Boiler@@',\n",
        " '@@WALL@@',\n",
        " '@@INF@@',\n",
        " '@@EPD@@',\n",
        " '@@CSP@@',\n",
        " '@@ROOF@@',\n",
        " '@@COP@@',\n",
        " '@@OCC@@',\n",
        " '@@SHGC@@',\n",
        " '@@WIN@@',\n",
        " '@@HSP@@',\n",
        " '@@LPD@@']"
       ]
      }
     ],
     "prompt_number": 28
    },
    {
     "cell_type": "code",
     "collapsed": false,
     "input": [
      "def replace_markup(line, markup_value_pairs):\n",
      "    for markup in markup_value_pairs.keys():\n",
      "        line = line.replace(markup, str(markup_value_pairs[markup]))\n",
      "    return line\n"
     ],
     "language": "python",
     "metadata": {},
     "outputs": [],
     "prompt_number": 31
    },
    {
     "cell_type": "code",
     "collapsed": false,
     "input": [
      "prepare_job_folders(output_folder, template_idf_path, eplus_basic_folder, markup_value_pairs)"
     ],
     "language": "python",
     "metadata": {},
     "outputs": [
      {
       "ename": "AttributeError",
       "evalue": "'str' object has no attribute 'keys'",
       "output_type": "pyerr",
       "traceback": [
        "\u001b[1;31m---------------------------------------------------------------------------\u001b[0m\n\u001b[1;31mAttributeError\u001b[0m                            Traceback (most recent call last)",
        "\u001b[1;32m<ipython-input-36-9378dcc355b1>\u001b[0m in \u001b[0;36m<module>\u001b[1;34m()\u001b[0m\n\u001b[1;32m----> 1\u001b[1;33m \u001b[0mprepare_job_folders\u001b[0m\u001b[1;33m(\u001b[0m\u001b[0moutput_folder\u001b[0m\u001b[1;33m,\u001b[0m \u001b[0mtemplate_idf_path\u001b[0m\u001b[1;33m,\u001b[0m \u001b[0meplus_basic_folder\u001b[0m\u001b[1;33m,\u001b[0m \u001b[0mmarkup_value_pairs\u001b[0m\u001b[1;33m)\u001b[0m\u001b[1;33m\u001b[0m\u001b[0m\n\u001b[0m",
        "\u001b[1;32m<ipython-input-35-c3e5f800e069>\u001b[0m in \u001b[0;36mprepare_job_folders\u001b[1;34m(output_folder, template_idf_path, eplus_basic_folder, markup_value_pairs)\u001b[0m\n\u001b[0;32m     43\u001b[0m         \u001b[0mos\u001b[0m\u001b[1;33m.\u001b[0m\u001b[0mmakedirs\u001b[0m\u001b[1;33m(\u001b[0m\u001b[0mpath_to_write\u001b[0m\u001b[1;33m)\u001b[0m\u001b[1;33m\u001b[0m\u001b[0m\n\u001b[0;32m     44\u001b[0m         \u001b[0mcopy_files\u001b[0m\u001b[1;33m(\u001b[0m\u001b[0meplus_basic_folder\u001b[0m\u001b[1;33m,\u001b[0m \u001b[0mpath_to_write\u001b[0m\u001b[1;33m)\u001b[0m\u001b[1;33m\u001b[0m\u001b[0m\n\u001b[1;32m---> 45\u001b[1;33m         \u001b[0mwrite_idf\u001b[0m\u001b[1;33m(\u001b[0m\u001b[0mtemplate_idf_path\u001b[0m\u001b[1;33m,\u001b[0m \u001b[0moutput_path\u001b[0m\u001b[1;33m,\u001b[0m \u001b[0mmarkup_value_pair\u001b[0m\u001b[1;33m)\u001b[0m\u001b[1;33m\u001b[0m\u001b[0m\n\u001b[0m\u001b[0;32m     46\u001b[0m         \u001b[0mpath\u001b[0m \u001b[1;33m=\u001b[0m \u001b[0mpathes\u001b[0m\u001b[1;33m[\u001b[0m\u001b[1;36m0\u001b[0m\u001b[1;33m]\u001b[0m\u001b[1;33m\u001b[0m\u001b[0m\n\u001b[0;32m     47\u001b[0m     \u001b[1;32mreturn\u001b[0m \u001b[0mpath\u001b[0m\u001b[1;33m\u001b[0m\u001b[0m\n",
        "\u001b[1;32m<ipython-input-35-c3e5f800e069>\u001b[0m in \u001b[0;36mwrite_idf\u001b[1;34m(template_path, output_path, markup_value_pairs)\u001b[0m\n\u001b[0;32m     19\u001b[0m     \u001b[0mnew\u001b[0m \u001b[1;33m=\u001b[0m \u001b[0mopen\u001b[0m\u001b[1;33m(\u001b[0m\u001b[0moutput_path\u001b[0m\u001b[1;33m,\u001b[0m \u001b[1;34m'w'\u001b[0m\u001b[1;33m)\u001b[0m\u001b[1;33m\u001b[0m\u001b[0m\n\u001b[0;32m     20\u001b[0m     \u001b[1;32mfor\u001b[0m \u001b[0mline\u001b[0m \u001b[1;32min\u001b[0m \u001b[0morigin\u001b[0m\u001b[1;33m:\u001b[0m\u001b[1;33m\u001b[0m\u001b[0m\n\u001b[1;32m---> 21\u001b[1;33m         \u001b[0mreplaced_line\u001b[0m \u001b[1;33m=\u001b[0m \u001b[0mreplace_markup\u001b[0m\u001b[1;33m(\u001b[0m\u001b[0mline\u001b[0m\u001b[1;33m,\u001b[0m \u001b[0mmarkup_value_pairs\u001b[0m\u001b[1;33m)\u001b[0m\u001b[1;33m\u001b[0m\u001b[0m\n\u001b[0m\u001b[0;32m     22\u001b[0m         \u001b[0mnew\u001b[0m\u001b[1;33m.\u001b[0m\u001b[0mwrite\u001b[0m\u001b[1;33m(\u001b[0m\u001b[0mreplaced_line\u001b[0m\u001b[1;33m)\u001b[0m\u001b[1;33m\u001b[0m\u001b[0m\n\u001b[0;32m     23\u001b[0m     \u001b[0morigin\u001b[0m\u001b[1;33m.\u001b[0m\u001b[0mclose\u001b[0m\u001b[1;33m(\u001b[0m\u001b[1;33m)\u001b[0m\u001b[1;33m\u001b[0m\u001b[0m\n",
        "\u001b[1;32m<ipython-input-31-7ba637b151cb>\u001b[0m in \u001b[0;36mreplace_markup\u001b[1;34m(line, markup_value_pairs)\u001b[0m\n\u001b[0;32m      1\u001b[0m \u001b[1;32mdef\u001b[0m \u001b[0mreplace_markup\u001b[0m\u001b[1;33m(\u001b[0m\u001b[0mline\u001b[0m\u001b[1;33m,\u001b[0m \u001b[0mmarkup_value_pairs\u001b[0m\u001b[1;33m)\u001b[0m\u001b[1;33m:\u001b[0m\u001b[1;33m\u001b[0m\u001b[0m\n\u001b[1;32m----> 2\u001b[1;33m     \u001b[1;32mfor\u001b[0m \u001b[0mmarkup\u001b[0m \u001b[1;32min\u001b[0m \u001b[0mmarkup_value_pairs\u001b[0m\u001b[1;33m.\u001b[0m\u001b[0mkeys\u001b[0m\u001b[1;33m(\u001b[0m\u001b[1;33m)\u001b[0m\u001b[1;33m:\u001b[0m\u001b[1;33m\u001b[0m\u001b[0m\n\u001b[0m\u001b[0;32m      3\u001b[0m         \u001b[0mline\u001b[0m \u001b[1;33m=\u001b[0m \u001b[0mline\u001b[0m\u001b[1;33m.\u001b[0m\u001b[0mreplace\u001b[0m\u001b[1;33m(\u001b[0m\u001b[0mmarkup\u001b[0m\u001b[1;33m,\u001b[0m \u001b[0mstr\u001b[0m\u001b[1;33m(\u001b[0m\u001b[0mmarkup_value_pairs\u001b[0m\u001b[1;33m[\u001b[0m\u001b[0mmarkup\u001b[0m\u001b[1;33m]\u001b[0m\u001b[1;33m)\u001b[0m\u001b[1;33m)\u001b[0m\u001b[1;33m\u001b[0m\u001b[0m\n\u001b[0;32m      4\u001b[0m     \u001b[1;32mreturn\u001b[0m \u001b[0mline\u001b[0m\u001b[1;33m\u001b[0m\u001b[0m\n",
        "\u001b[1;31mAttributeError\u001b[0m: 'str' object has no attribute 'keys'"
       ]
      }
     ],
     "prompt_number": 36
    },
    {
     "cell_type": "code",
     "collapsed": false,
     "input": [
      "markup_value_pairs.keys()"
     ],
     "language": "python",
     "metadata": {},
     "outputs": [
      {
       "metadata": {},
       "output_type": "pyout",
       "prompt_number": 39,
       "text": [
        "['@@Boiler@@',\n",
        " '@@WALL@@',\n",
        " '@@INF@@',\n",
        " '@@EPD@@',\n",
        " '@@CSP@@',\n",
        " '@@ROOF@@',\n",
        " '@@COP@@',\n",
        " '@@OCC@@',\n",
        " '@@SHGC@@',\n",
        " '@@WIN@@',\n",
        " '@@HSP@@',\n",
        " '@@LPD@@']"
       ]
      }
     ],
     "prompt_number": 39
    }
   ],
   "metadata": {}
  }
 ]
}