{
 "metadata": {
  "name": "",
  "signature": "sha256:87e2c21736c9e80e97cb76d207caa85f978a57deef65e5b74ce28b16458bd099"
 },
 "nbformat": 3,
 "nbformat_minor": 0,
 "worksheets": [
  {
   "cells": [
    {
     "cell_type": "markdown",
     "metadata": {},
     "source": [
      "MCMC \ub0b4\uc5d0 \ubc14\uafd4\uc11c \uc5f0\uc2b5\uc911\n",
      "\uc5d0\ub108\uc9c0 \ud50c\ub7ec\uc2a4 \ub3cc\ub9ac\ub294 \uac83\uc744 \ubc14\uae65\uc73c\ub85c \uaebc\ub0c8\uc74c\n",
      "\ub97c \ub9cc\ub4e4\uae30 \uc704\ud574 linear model\ub85c \uc5f0\uc2b5\n"
     ]
    },
    {
     "cell_type": "code",
     "collapsed": false,
     "input": [
      "# Import relevant modules\n",
      "import numpy as np\n",
      "import pandas as pd\n",
      "import math\n",
      "from scipy.stats import triang, norm\n",
      "import csv\n",
      "import os"
     ],
     "language": "python",
     "metadata": {},
     "outputs": [
      {
       "output_type": "stream",
       "stream": "stderr",
       "text": [
        "C:\\Users\\Hyunwoo\\AppData\\Local\\Enthought\\Canopy\\User\\lib\\site-packages\\pandas\\io\\excel.py:626: UserWarning: Installed openpyxl is not supported at this time. Use >=1.6.1 and <2.0.0.\n",
        "  .format(openpyxl_compat.start_ver, openpyxl_compat.stop_ver))\n"
       ]
      }
     ],
     "prompt_number": 1
    },
    {
     "cell_type": "code",
     "collapsed": false,
     "input": [
      "def tri_logdensity(x, min, max, mode):\n",
      "    loc = float(min)\n",
      "    scale = float(max) - float(min)\n",
      "    c = (float(mode) - float(min))/float(scale)\n",
      "    log_density = triang.logpdf(x = x, c = c, loc = loc, scale = scale)\n",
      "    return log_density\n",
      "\n",
      "def truncated_normal(myclip_min, myclip_max, mu, sigma, n=1):\n",
      "    a = (float(myclip_min) - float(mu)) / float(sigma)\n",
      "    b = (float(myclip_max) - float(mu)) / float(sigma)\n",
      "    c = truncnorm.rvs(a, b, loc=mu, scale=sigma,size=n)\n",
      "    return c\n"
     ],
     "language": "python",
     "metadata": {},
     "outputs": [],
     "prompt_number": 2
    },
    {
     "cell_type": "code",
     "collapsed": false,
     "input": [
      "HSP = np.random.normal(loc=21,scale=0.01)\n",
      "print tri_logdensity(x = HSP, min = 17, max = 28, mode = 21)\n",
      "print triang.pdf(x= HSP, loc=17, scale = 11, c=4/11)"
     ],
     "language": "python",
     "metadata": {},
     "outputs": [
      {
       "output_type": "stream",
       "stream": "stdout",
       "text": [
        "-2.15913134378\n",
        "0.115425342444\n"
       ]
      }
     ],
     "prompt_number": 267
    },
    {
     "cell_type": "code",
     "collapsed": false,
     "input": [
      "# Priors \n",
      "def prior(param):\n",
      "    ROOF = param[0]\n",
      "    WALL = param[1]\n",
      "    #WIN = param[2]\n",
      "    #SHGC = param[3]\n",
      "    EPD = param[2]\n",
      "    LPD = param[3]\n",
      "    HSP = param[4]\n",
      "    CSP = param[5]\n",
      "    OCC = param[6]\n",
      "    INF = param[7]\n",
      "    Boiler = param[8]\n",
      "    COP = param[9]\n",
      "\n",
      "    ROOF_prior = tri_logdensity(x = ROOF, min = 0.01, max = 0.25, mode = 0.116)\n",
      "    WALL_prior = tri_logdensity(x = WALL, min = 0.01, max = 0.25, mode = 0.046)\n",
      "    #WIN_prior = tri_logdensity(x = WIN, min = 1, max = 5, mode = 2.792)\n",
      "    #SHGC_prior = tri_logdensity(x = SHGC, min = 0.1, max = 0.9, mode = 0.5)\n",
      "    EPD_prior = tri_logdensity(x = EPD, min = 1, max = 60, mode = 11.67)\n",
      "    LPD_prior = tri_logdensity(x = LPD, min = 1, max = 40, mode = 12.43)\n",
      "    HSP_prior = tri_logdensity(x = HSP, min = 17, max = 25, mode = 21)\n",
      "    CSP_prior = tri_logdensity(x = CSP, min = 20, max = 28, mode = 24)\n",
      "    OCC_prior = tri_logdensity(x = OCC, min = 2, max = 56.7, mode = 14.37)\n",
      "    INF_prior = tri_logdensity(x = INF, min = 0.1, max = 1.3, mode = 0.56)\n",
      "    Boiler_prior = tri_logdensity(x = Boiler, min = 0.5, max = 0.95, mode = 0.72)\n",
      "    COP_prior = tri_logdensity(x = COP, min = 2, max = 4, mode = 2.65)\n",
      "    return ROOF_prior+WALL_prior+EPD_prior+LPD_prior+HSP_prior+CSP_prior+OCC_prior+INF_prior+Boiler_prior+COP_prior"
     ],
     "language": "python",
     "metadata": {},
     "outputs": [],
     "prompt_number": 3
    },
    {
     "cell_type": "code",
     "collapsed": false,
     "input": [
      "#Likelihood function\n",
      "def likelihood(param):\n",
      "    ROOF = param[0]\n",
      "    WALL = param[1]\n",
      "    #WIN = param[2]\n",
      "    #SHGC = param[3]\n",
      "    EPD = param[2]\n",
      "    LPD = param[3]\n",
      "    HSP = param[4]\n",
      "    CSP = param[5]\n",
      "    OCC = param[6]\n",
      "    INF = param[7]\n",
      "    Boiler = param[8]\n",
      "    COP = param[9]\n",
      "    \n",
      "    \"\"\"\n",
      "    #---------------------------------\n",
      "    #to do: get the EUI from energyplus\n",
      "    prediction = -0.2177929 - 0.2458677 * ROOF - 0.3842544 * WALL - 0.0049753 * WIN  \\\n",
      "        + 0.0176093 * SHGC + 0.014322 * EPD + 0.0125891 * LPD + 0.0518334 * HSP \\\n",
      "        +0.0026691 * CSP + 0.0003318 * OCC + 0.5664563* INF - 0.6163375 * Boiler \\\n",
      "        - 0.0425599 * COP\n",
      "    #---------------------------------\n",
      "    \"\"\"\n",
      "    prediction = param[10]\n",
      "    singlelikelihoods = norm.logpdf(x=y, loc=prediction, scale=sd)\n",
      "    #sumll = sum(singlelikelihoods)\n",
      "    return singlelikelihoods\n",
      "\n",
      "    \n",
      "    "
     ],
     "language": "python",
     "metadata": {},
     "outputs": [],
     "prompt_number": 32
    },
    {
     "cell_type": "code",
     "collapsed": false,
     "input": [
      "#Posterior \n",
      "def posterior(param):\n",
      "    return likelihood(param) + prior(param)\n"
     ],
     "language": "python",
     "metadata": {},
     "outputs": [],
     "prompt_number": 5
    },
    {
     "cell_type": "code",
     "collapsed": false,
     "input": [
      "#Proposal function\n",
      "\n",
      "def proposalfunction(param):\n",
      "    return abs(np.random.normal(loc=param, scale=[0.02, 0.02, 7, 3.5, 1, 1, 4, 0.1, 0.05, 0.1])).tolist()\n",
      "\n"
     ],
     "language": "python",
     "metadata": {},
     "outputs": [],
     "prompt_number": 6
    },
    {
     "cell_type": "code",
     "collapsed": false,
     "input": [
      "#chain[0]\n",
      "a = proposalfunction(startvalue)\n",
      "print a"
     ],
     "language": "python",
     "metadata": {},
     "outputs": [
      {
       "output_type": "stream",
       "stream": "stdout",
       "text": [
        "[0.12288189988343187, 0.03724709145811394, 4.49134501566328, 10.44862408996154, 19.89172340410505, 24.057557195339424, 19.881359552476788, 0.6091909014360517, 0.7024232756820771, 2.5136409338701577]\n"
       ]
      }
     ],
     "prompt_number": 22
    },
    {
     "cell_type": "code",
     "collapsed": false,
     "input": [
      "# To make chain list\n",
      "def make_chainlist(list):\n",
      "    chain = []\n",
      "    for item in list:\n",
      "        temp =[item]\n",
      "        chain.append(temp)\n",
      "    return chain\n"
     ],
     "language": "python",
     "metadata": {},
     "outputs": [],
     "prompt_number": 274
    },
    {
     "cell_type": "code",
     "collapsed": false,
     "input": [
      "\n",
      "\n",
      "\n",
      "#Run metro-polis MCMC\n",
      "def run_metropolis_MCMC(startvalue, iterations):\n",
      "    chain = [[0 for x in xrange(10)] for x in xrange(iterations+1)]\n",
      "    chain[0][0] = startvalue[0]\n",
      "    chain[0][1] = startvalue[1]\n",
      "    chain[0][2] = startvalue[2]\n",
      "    chain[0][3] = startvalue[3]\n",
      "    chain[0][4] = startvalue[4]\n",
      "    chain[0][5] = startvalue[5]\n",
      "    chain[0][6] = startvalue[6]\n",
      "    chain[0][7] = startvalue[7]\n",
      "    chain[0][8] = startvalue[8]\n",
      "    chain[0][9] = startvalue[9]\n",
      "    #chain[0][10] = startvalue[10]\n",
      "    #chain[0][11] = startvalue[11]\n",
      "    prediction = -0.1451842231 - 0.1982386622 * chain[0][0] - 0.2540607323 * chain[0][1] \\\n",
      "    + 0.0140353588 * chain[0][2]  + 0.0113239676 * chain[0][3] + 0.0416422562 * chain[0][4] \\\n",
      "    + 0.0029037831 * chain[0][5] + 0.0009297141 * chain[0][6] + 0.5409469850 * chain[0][7] \\\n",
      "    - 0.5267889385 * chain[0][8] - 0.0340376679* chain[0][9] \n",
      "    chain[0].append(prediction) \n",
      "    make_csv(chain[0])\n",
      "    for i in range(0,iterations):\n",
      "        proposal = proposalfunction(chain[i][:-1])\n",
      "        prediction = -0.1451842231 - 0.1982386622 * proposal[0] - 0.2540607323 * proposal[1] \\\n",
      "    + 0.0140353588 * proposal[2]  + 0.0113239676 * proposal[3] + 0.0416422562 * proposal[4] \\\n",
      "    + 0.0029037831 * proposal[5] + 0.0009297141 * proposal[6] + 0.5409469850 * proposal[7] \\\n",
      "    - 0.5267889385 * proposal[8] - 0.0340376679* proposal[9] \n",
      "        proposal.append(prediction)\n",
      "        probab = math.exp(posterior(proposal) - posterior(chain[i]))\n",
      "        if np.random.uniform() < probab:\n",
      "            chain[i+1] = list(proposal)\n",
      "            add_chain(chain[i+1])\n",
      "        else:\n",
      "            chain[i+1] = list(chain[i])\n",
      "            add_chain(chain[i+1])\n",
      "    return chain\n",
      "\n"
     ],
     "language": "python",
     "metadata": {},
     "outputs": [],
     "prompt_number": 27
    },
    {
     "cell_type": "code",
     "collapsed": false,
     "input": [
      "\n",
      "proposal = proposalfunction(startvalue)\n",
      "proposal"
     ],
     "language": "python",
     "metadata": {},
     "outputs": [
      {
       "metadata": {},
       "output_type": "pyout",
       "prompt_number": 276,
       "text": [
        "[0.07779901220311476,\n",
        " 0.0726179007762541,\n",
        " 2.8445165718318615,\n",
        " 0.6214873856863091,\n",
        " 16.24764500117892,\n",
        " 15.541523403239387,\n",
        " 19.236613068453977,\n",
        " 23.535496766582447,\n",
        " 21.737846120115222,\n",
        " 0.44277273134148176,\n",
        " 0.7586743188386214,\n",
        " 2.678568109391132]"
       ]
      }
     ],
     "prompt_number": 276
    },
    {
     "cell_type": "code",
     "collapsed": false,
     "input": [
      "prediction = -0.1451842231 - 0.1982386622 * proposal[0] - 0.2540607323 * proposal[1] \\\n",
      "    + 0.0140353588 * proposal[2]  + 0.0113239676 * proposal[3] + 0.0416422562 * proposal[4] \\\n",
      "    + 0.0029037831 * proposal[5] + 0.0009297141 * proposal[6] + 0.5409469850 * proposal[7] \\\n",
      "    - 0.5267889385 * proposal[8] - 0.0340376679* proposal[9] \n",
      "prediction"
     ],
     "language": "python",
     "metadata": {},
     "outputs": [
      {
       "metadata": {},
       "output_type": "pyout",
       "prompt_number": 282,
       "text": [
        "1.8726357029505116"
       ]
      }
     ],
     "prompt_number": 282
    },
    {
     "cell_type": "code",
     "collapsed": false,
     "input": [
      "proposal.append(prediction)\n",
      "proposal"
     ],
     "language": "python",
     "metadata": {},
     "outputs": [
      {
       "metadata": {},
       "output_type": "pyout",
       "prompt_number": 278,
       "text": [
        "[0.07779901220311476,\n",
        " 0.0726179007762541,\n",
        " 2.8445165718318615,\n",
        " 0.6214873856863091,\n",
        " 16.24764500117892,\n",
        " 15.541523403239387,\n",
        " 19.236613068453977,\n",
        " 23.535496766582447,\n",
        " 21.737846120115222,\n",
        " 0.44277273134148176,\n",
        " 0.7586743188386214,\n",
        " 2.678568109391132,\n",
        " 0.8966619372741028]"
       ]
      }
     ],
     "prompt_number": 278
    },
    {
     "cell_type": "code",
     "collapsed": false,
     "input": [
      "add_chain(proposal)"
     ],
     "language": "python",
     "metadata": {},
     "outputs": [
      {
       "ename": "NameError",
       "evalue": "name 'proposal' is not defined",
       "output_type": "pyerr",
       "traceback": [
        "\u001b[1;31m---------------------------------------------------------------------------\u001b[0m\n\u001b[1;31mNameError\u001b[0m                                 Traceback (most recent call last)",
        "\u001b[1;32m<ipython-input-34-0728adc794c7>\u001b[0m in \u001b[0;36m<module>\u001b[1;34m()\u001b[0m\n\u001b[1;32m----> 1\u001b[1;33m \u001b[0madd_chain\u001b[0m\u001b[1;33m(\u001b[0m\u001b[0mproposal\u001b[0m\u001b[1;33m)\u001b[0m\u001b[1;33m\u001b[0m\u001b[0m\n\u001b[0m",
        "\u001b[1;31mNameError\u001b[0m: name 'proposal' is not defined"
       ]
      }
     ],
     "prompt_number": 34
    },
    {
     "cell_type": "code",
     "collapsed": false,
     "input": [
      "#Run\n",
      "\n",
      "# Observation value\n",
      "y = 1.7\n",
      "sd = 0.1\n",
      "startvalue = [0.116, 0.046, 11.67, 12.43, 21, 24, 14.37, 0.56, 0.72, 2.65]\n",
      "iterations = 4000\n",
      "\n"
     ],
     "language": "python",
     "metadata": {},
     "outputs": [],
     "prompt_number": 36
    },
    {
     "cell_type": "code",
     "collapsed": false,
     "input": [
      "# initial values\n",
      "template_idf_path = \"test/campusbuilding.idf\"\n",
      "eplus_basic_folder = \"test/basic_files\"\n",
      "output_folder = \"test/out\"\n",
      "#sys.argv[1]\n",
      "totalarea = 10336.99\n",
      "count = 1\n",
      "\n"
     ],
     "language": "python",
     "metadata": {},
     "outputs": [],
     "prompt_number": 17
    },
    {
     "cell_type": "code",
     "collapsed": false,
     "input": [
      "import time\n",
      "start_time = time.time()\n",
      "chain = run_metropolis_MCMC(startvalue, iterations)\n",
      "print time.time() - start_time, \"seconds\"\n",
      "chain"
     ],
     "language": "python",
     "metadata": {},
     "outputs": [
      {
       "ename": "IOError",
       "evalue": "[Errno 13] Permission denied: 'chain_linear.csv'",
       "output_type": "pyerr",
       "traceback": [
        "\u001b[1;31m---------------------------------------------------------------------------\u001b[0m\n\u001b[1;31mIOError\u001b[0m                                   Traceback (most recent call last)",
        "\u001b[1;32m<ipython-input-40-4c7ecafe3049>\u001b[0m in \u001b[0;36m<module>\u001b[1;34m()\u001b[0m\n\u001b[0;32m      1\u001b[0m \u001b[1;32mimport\u001b[0m \u001b[0mtime\u001b[0m\u001b[1;33m\u001b[0m\u001b[0m\n\u001b[0;32m      2\u001b[0m \u001b[0mstart_time\u001b[0m \u001b[1;33m=\u001b[0m \u001b[0mtime\u001b[0m\u001b[1;33m.\u001b[0m\u001b[0mtime\u001b[0m\u001b[1;33m(\u001b[0m\u001b[1;33m)\u001b[0m\u001b[1;33m\u001b[0m\u001b[0m\n\u001b[1;32m----> 3\u001b[1;33m \u001b[0mchain\u001b[0m \u001b[1;33m=\u001b[0m \u001b[0mrun_metropolis_MCMC\u001b[0m\u001b[1;33m(\u001b[0m\u001b[0mstartvalue\u001b[0m\u001b[1;33m,\u001b[0m \u001b[0miterations\u001b[0m\u001b[1;33m)\u001b[0m\u001b[1;33m\u001b[0m\u001b[0m\n\u001b[0m\u001b[0;32m      4\u001b[0m \u001b[1;32mprint\u001b[0m \u001b[0mtime\u001b[0m\u001b[1;33m.\u001b[0m\u001b[0mtime\u001b[0m\u001b[1;33m(\u001b[0m\u001b[1;33m)\u001b[0m \u001b[1;33m-\u001b[0m \u001b[0mstart_time\u001b[0m\u001b[1;33m,\u001b[0m \u001b[1;34m\"seconds\"\u001b[0m\u001b[1;33m\u001b[0m\u001b[0m\n\u001b[0;32m      5\u001b[0m \u001b[0mchain\u001b[0m\u001b[1;33m\u001b[0m\u001b[0m\n",
        "\u001b[1;32m<ipython-input-27-0979b40fab93>\u001b[0m in \u001b[0;36mrun_metropolis_MCMC\u001b[1;34m(startvalue, iterations)\u001b[0m\n\u001b[0;32m     27\u001b[0m         \u001b[1;32mif\u001b[0m \u001b[0mnp\u001b[0m\u001b[1;33m.\u001b[0m\u001b[0mrandom\u001b[0m\u001b[1;33m.\u001b[0m\u001b[0muniform\u001b[0m\u001b[1;33m(\u001b[0m\u001b[1;33m)\u001b[0m \u001b[1;33m<\u001b[0m \u001b[0mprobab\u001b[0m\u001b[1;33m:\u001b[0m\u001b[1;33m\u001b[0m\u001b[0m\n\u001b[0;32m     28\u001b[0m             \u001b[0mchain\u001b[0m\u001b[1;33m[\u001b[0m\u001b[0mi\u001b[0m\u001b[1;33m+\u001b[0m\u001b[1;36m1\u001b[0m\u001b[1;33m]\u001b[0m \u001b[1;33m=\u001b[0m \u001b[0mlist\u001b[0m\u001b[1;33m(\u001b[0m\u001b[0mproposal\u001b[0m\u001b[1;33m)\u001b[0m\u001b[1;33m\u001b[0m\u001b[0m\n\u001b[1;32m---> 29\u001b[1;33m             \u001b[0madd_chain\u001b[0m\u001b[1;33m(\u001b[0m\u001b[0mchain\u001b[0m\u001b[1;33m[\u001b[0m\u001b[0mi\u001b[0m\u001b[1;33m+\u001b[0m\u001b[1;36m1\u001b[0m\u001b[1;33m]\u001b[0m\u001b[1;33m)\u001b[0m\u001b[1;33m\u001b[0m\u001b[0m\n\u001b[0m\u001b[0;32m     30\u001b[0m         \u001b[1;32melse\u001b[0m\u001b[1;33m:\u001b[0m\u001b[1;33m\u001b[0m\u001b[0m\n\u001b[0;32m     31\u001b[0m             \u001b[0mchain\u001b[0m\u001b[1;33m[\u001b[0m\u001b[0mi\u001b[0m\u001b[1;33m+\u001b[0m\u001b[1;36m1\u001b[0m\u001b[1;33m]\u001b[0m \u001b[1;33m=\u001b[0m \u001b[0mlist\u001b[0m\u001b[1;33m(\u001b[0m\u001b[0mchain\u001b[0m\u001b[1;33m[\u001b[0m\u001b[0mi\u001b[0m\u001b[1;33m]\u001b[0m\u001b[1;33m)\u001b[0m\u001b[1;33m\u001b[0m\u001b[0m\n",
        "\u001b[1;32m<ipython-input-18-37e8d82901fa>\u001b[0m in \u001b[0;36madd_chain\u001b[1;34m(chain)\u001b[0m\n\u001b[0;32m      1\u001b[0m \u001b[1;32mdef\u001b[0m \u001b[0madd_chain\u001b[0m\u001b[1;33m(\u001b[0m\u001b[0mchain\u001b[0m\u001b[1;33m)\u001b[0m\u001b[1;33m:\u001b[0m\u001b[1;33m\u001b[0m\u001b[0m\n\u001b[1;32m----> 2\u001b[1;33m     \u001b[0mwriter\u001b[0m \u001b[1;33m=\u001b[0m \u001b[0mcsv\u001b[0m\u001b[1;33m.\u001b[0m\u001b[0mwriter\u001b[0m\u001b[1;33m(\u001b[0m\u001b[0mopen\u001b[0m\u001b[1;33m(\u001b[0m\u001b[0mos\u001b[0m\u001b[1;33m.\u001b[0m\u001b[0mpath\u001b[0m\u001b[1;33m.\u001b[0m\u001b[0mjoin\u001b[0m\u001b[1;33m(\u001b[0m\u001b[1;34m\"\"\u001b[0m\u001b[1;33m,\u001b[0m \u001b[1;34m'chain_linear.csv'\u001b[0m\u001b[1;33m)\u001b[0m\u001b[1;33m,\u001b[0m \u001b[1;34m\"ab\"\u001b[0m\u001b[1;33m)\u001b[0m\u001b[1;33m,\u001b[0m \u001b[0mdelimiter\u001b[0m\u001b[1;33m=\u001b[0m\u001b[1;34m','\u001b[0m\u001b[1;33m,\u001b[0m \u001b[0mquotechar\u001b[0m\u001b[1;33m=\u001b[0m\u001b[1;34m'|'\u001b[0m\u001b[1;33m)\u001b[0m\u001b[1;33m\u001b[0m\u001b[0m\n\u001b[0m\u001b[0;32m      3\u001b[0m     \u001b[0mwriter\u001b[0m\u001b[1;33m.\u001b[0m\u001b[0mwriterow\u001b[0m\u001b[1;33m(\u001b[0m\u001b[0mchain\u001b[0m\u001b[1;33m)\u001b[0m\u001b[1;33m\u001b[0m\u001b[0m\n\u001b[0;32m      4\u001b[0m     \u001b[1;32mreturn\u001b[0m\u001b[1;33m\u001b[0m\u001b[0m\n",
        "\u001b[1;31mIOError\u001b[0m: [Errno 13] Permission denied: 'chain_linear.csv'"
       ]
      }
     ],
     "prompt_number": 40
    },
    {
     "cell_type": "code",
     "collapsed": false,
     "input": [
      "def make_csv(chain):\n",
      "    with open(os.path.join(\"\", 'chain_linear.csv'), 'wb') as csvfile:\n",
      "        writer = csv.DictWriter(csvfile, fieldnames = ['ROOF','WALL','EPD','LPD',\n",
      "                    'HSP','CSP','OCC','INF','Boiler','COP','EUI'], delimiter = ',')\n",
      "        writer.writeheader()\n",
      "        writer = csv.writer(csvfile)\n",
      "        writer.writerows([chain])"
     ],
     "language": "python",
     "metadata": {},
     "outputs": [],
     "prompt_number": 39
    },
    {
     "cell_type": "code",
     "collapsed": false,
     "input": [
      "def add_chain(chain):\n",
      "    writer = csv.writer(open(os.path.join(\"\", 'chain_linear.csv'), \"ab\"), delimiter=',', quotechar='|')\n",
      "    writer.writerow(chain)\n",
      "    return \n"
     ],
     "language": "python",
     "metadata": {},
     "outputs": [],
     "prompt_number": 18
    },
    {
     "cell_type": "markdown",
     "metadata": {},
     "source": [
      "CSV \ud30c\uc77c \ub9cc\ub4e4\uae30 - \uc131\uacf5"
     ]
    },
    {
     "cell_type": "code",
     "collapsed": false,
     "input": [
      "import csv\n",
      "with open(\"chain111.csv\", 'a') as outcsv:   \n",
      "#configure writer to write standart csv file\n",
      "    writer = csv.writer(outcsv, delimiter=',', quotechar='|', quoting=csv.QUOTE_MINIMAL, lineterminator='\\n')\n",
      "    writer.writerow(['ROOF','WALL','WIN','SHGC','EPD','LPD',\n",
      "                    'HSP','CSP','OCC','INF','Boiler','COP','EUI'])\n",
      "    for item in chain:\n",
      "#Write item to outcsv\n",
      "        writer.writerow([item[0], item[1], item[2], item[3], item[4], item[5], item[6], item[7],\n",
      "                         item[8], item[9], item[10], item[11], item[12]])"
     ],
     "language": "python",
     "metadata": {},
     "outputs": [],
     "prompt_number": 20
    },
    {
     "cell_type": "markdown",
     "metadata": {},
     "source": [
      "CSV \ud30c\uc77c \ub9cc\ub4e4\uae30 - \uc131\uacf5"
     ]
    },
    {
     "cell_type": "code",
     "collapsed": false,
     "input": [
      "import csv\n",
      "import os\n",
      "    \n",
      "with open(os.path.join(\"\", 'chain1.csv'), 'wb') as csvfile:\n",
      "    writer = csv.DictWriter(csvfile, fieldnames = ['ROOF','WALL','WIN','SHGC','EPD','LPD',\n",
      "                    'HSP','CSP','OCC','INF','Boiler','COP','EUI'], delimiter = ',')\n",
      "    writer.writeheader()\n",
      "    writer = csv.writer(csvfile)\n",
      "    writer.writerows(chain)"
     ],
     "language": "python",
     "metadata": {},
     "outputs": [],
     "prompt_number": 67
    },
    {
     "cell_type": "markdown",
     "metadata": {},
     "source": [
      "2014/06/24\n",
      "\uc131\uacf5!\n"
     ]
    },
    {
     "cell_type": "markdown",
     "metadata": {},
     "source": [
      "2014/07/10 CSV\uc5d0 chain \ud55c\uc904\uc529 \ucd94\uac00\ud558\ub294 \ubc95 \uc5f0\uc2b5 - \uc131\uacf5"
     ]
    },
    {
     "cell_type": "code",
     "collapsed": false,
     "input": [],
     "language": "python",
     "metadata": {},
     "outputs": []
    }
   ],
   "metadata": {}
  }
 ]
}