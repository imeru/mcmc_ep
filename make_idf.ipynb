{
 "metadata": {
  "name": "",
  "signature": "sha256:30bc62dd75679f4cd5f5a41b62226194314320b2beb0e7bb8b7299670677fda9"
 },
 "nbformat": 3,
 "nbformat_minor": 0,
 "worksheets": [
  {
   "cells": [
    {
     "cell_type": "code",
     "collapsed": false,
     "input": [
      "import sys\n",
      "import os\n",
      "import shutil\n",
      "import csv\n"
     ],
     "language": "python",
     "metadata": {},
     "outputs": []
    },
    {
     "cell_type": "code",
     "collapsed": false,
     "input": [
      "def replace_markup(line, markup_value_pairs):\n",
      "    for markup in markup_value_pairs.keys():\n",
      "        line = line.replace(markup, str(markup_value_pairs[markup]))\n",
      "    return line"
     ],
     "language": "python",
     "metadata": {},
     "outputs": []
    },
    {
     "cell_type": "code",
     "collapsed": false,
     "input": [
      "def write_idf(template_path, output_path, markup_value_pairs):\n",
      "    origin = open(template_path, 'r')\n",
      "    new = open(output_path, 'w')\n",
      "    for line in origin:\n",
      "        replaced_line = replace_markup(line, markup_value_pairs)\n",
      "        new.write(replaced_line)\n",
      "    origin.close()\n",
      "    new.close()\n"
     ],
     "language": "python",
     "metadata": {},
     "outputs": []
    },
    {
     "cell_type": "code",
     "collapsed": false,
     "input": [
      "def copy_files(orig, dest):\n",
      "    files = os.listdir(orig)\n",
      "    for file_name in files:\n",
      "        file_path = os.path.join(orig, file_name)\n",
      "        shutil.copy(file_path, dest)"
     ],
     "language": "python",
     "metadata": {},
     "outputs": []
    },
    {
     "cell_type": "code",
     "collapsed": false,
     "input": [
      "def prepare_job_folders(output_folder, template_idf_path,\n",
      "                        eplus_basic_folder, markup_value_pairs):\n",
      "    pathes = []\n",
      "    for index, markup_value_pair in enumerate(markup_value_pairs):\n",
      "        path_to_write = output_folder + \"/\" + str(index)\n",
      "        pathes.append(path_to_write)\n",
      "        output_path = path_to_write + \"/\" + \"in.idf\"\n",
      "        os.makedirs(path_to_write)\n",
      "        copy_files(eplus_basic_folder, path_to_write)\n",
      "        write_idf(template_idf_path, output_path, markup_value_pair)\n",
      "    return pathes"
     ],
     "language": "python",
     "metadata": {},
     "outputs": []
    }
   ],
   "metadata": {}
  }
 ]
}