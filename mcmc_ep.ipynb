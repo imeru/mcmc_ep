{
 "metadata": {
  "name": "",
  "signature": "sha256:55011041e2679297bca3c23ef8f8f56bbbdbc9e639f17b556794625f8b8a8f0e"
 },
 "nbformat": 3,
 "nbformat_minor": 0,
 "worksheets": [
  {
   "cells": [
    {
     "cell_type": "markdown",
     "metadata": {},
     "source": [
      "python first work (6/5/2014)\n",
      "for calculate prior density\n"
     ]
    },
    {
     "cell_type": "code",
     "collapsed": false,
     "input": [
      "# Import relevant modules\n",
      "import numpy as np\n",
      "from scipy.stats import triang"
     ],
     "language": "python",
     "metadata": {},
     "outputs": [],
     "prompt_number": 2
    },
    {
     "cell_type": "code",
     "collapsed": false,
     "input": [
      "def tri_logdensity(x, min, max, mode):\n",
      "    loc = min\n",
      "    scale = max - min\n",
      "    c = (mode - min)/scale\n",
      "    log_density = triang.logpdf(x = x, c = c, loc = loc, scale = scale)\n",
      "    return log_density\n"
     ],
     "language": "python",
     "metadata": {},
     "outputs": [],
     "prompt_number": 3
    },
    {
     "cell_type": "code",
     "collapsed": false,
     "input": [
      "tri_logdensity(x = 0.1, min = 0.01, max = 0.25, mode = 0.09667)"
     ],
     "language": "python",
     "metadata": {},
     "outputs": [
      {
       "metadata": {},
       "output_type": "pyout",
       "prompt_number": 5,
       "text": [
        "2.098306368848049"
       ]
      }
     ],
     "prompt_number": 5
    },
    {
     "cell_type": "code",
     "collapsed": false,
     "input": [
      "# Priors \n",
      "def prior(param):\n",
      "    ROOF = param[0]\n",
      "    WALL = param[1]\n",
      "    EPD = param[2]\n",
      "    LPD = param[3]\n",
      "    HSP = param[4]\n",
      "    INF = param[5]\n",
      "    Boiler = param[6]\n",
      "    COP = param[7]\n",
      "\n",
      "    ROOF_prior = tri_logdensity(x = ROOF, min = 0.01, max = 0.25, mode = 0.09667)\n",
      "    WALL_prior = tri_logdensity(x = WALL, min = 0.01, max = 0.25, mode = 0.055)\n",
      "    EPD_prior = tri_logdensity(x = EPD, min = 1, max = 70, mode = 22.8)\n",
      "    LPD_prior = tri_logdensity(x = LPD, min = 1, max = 50, mode = 14.5)\n",
      "    HSP_prior = tri_logdensity(x = HSP, min = 17, max = 28, mode = 21)\n",
      "    INF_prior = tri_logdensity(x = INF, min = 0.1, max = 2, mode = 0.675)\n",
      "    Boiler_prior = tri_logdensity(x = Boiler, min = 0.5, max = 0.99, mode = 0.72)\n",
      "    COP_prior = tri_logdensity(x = COP, min = 2, max = 4, mode = 2.65)\n",
      "    return ROOF_prior+WALL_prior+EPD_prior+LPD_prior+HSP_prior+INF_prior+Boiler_prior+COP_prior"
     ],
     "language": "python",
     "metadata": {},
     "outputs": [],
     "prompt_number": 37
    },
    {
     "cell_type": "code",
     "collapsed": false,
     "input": [
      "param = (0.09667, 0.055, 22.8, 14.5, 21, 0.675, 0.72, 2.65)"
     ],
     "language": "python",
     "metadata": {},
     "outputs": [],
     "prompt_number": 31
    },
    {
     "cell_type": "code",
     "collapsed": false,
     "input": [
      "prior(param)"
     ],
     "language": "python",
     "metadata": {},
     "outputs": [
      {
       "metadata": {},
       "output_type": "pyout",
       "prompt_number": 32,
       "text": [
        "(0.09667, 0.055, 22.8, 14.5, 21, 0.675, 0.72, 2.65)"
       ]
      }
     ],
     "prompt_number": 32
    }
   ],
   "metadata": {}
  }
 ]
}