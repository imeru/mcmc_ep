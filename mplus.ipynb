{
 "metadata": {
  "name": "",
  "signature": "sha256:d54b2aff40fb63bb9c860242b6e99a1887e572a147f36997dcbe189c258df998"
 },
 "nbformat": 3,
 "nbformat_minor": 0,
 "worksheets": [
  {
   "cells": [
    {
     "cell_type": "code",
     "collapsed": false,
     "input": [
      "from multiprocessing import Pool, cpu_count\n",
      "from subprocess import call\n",
      "import os\n",
      "import shutil"
     ],
     "language": "python",
     "metadata": {},
     "outputs": []
    },
    {
     "cell_type": "code",
     "collapsed": false,
     "input": [
      "def run_eplus(path):\n",
      "    current_dir = os.getcwd()\n",
      "    os.chdir(path)\n",
      "    call([\"EnergyPlus\"])\n",
      "    call([\"ReadVarsESO\", \"my.rvi\"])\n",
      "    os.chdir(current_dir)"
     ],
     "language": "python",
     "metadata": {},
     "outputs": []
    },
    {
     "cell_type": "code",
     "collapsed": false,
     "input": [
      "def run_eplus_multi(pathes):\n",
      "    p = Pool(cpu_count())\n",
      "    result = p.map(run_eplus, pathes)\n",
      "    return result"
     ],
     "language": "python",
     "metadata": {},
     "outputs": []
    }
   ],
   "metadata": {}
  }
 ]
}