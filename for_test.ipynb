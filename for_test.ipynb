{
 "metadata": {
  "name": "",
  "signature": "sha256:f178588a53f170bd69c94d5f3ba4e79119dcd7837afdeb9596fff584b69204b1"
 },
 "nbformat": 3,
 "nbformat_minor": 0,
 "worksheets": [
  {
   "cells": [
    {
     "cell_type": "code",
     "collapsed": false,
     "input": [
      "#My dictionary\n",
      "dict = {}\n",
      "dict['Capital']=\"London\"\n",
      "dict['Food']=\"Fish&Chips\"\n",
      "dict['2012']=\"Olympics\"\n",
      "\n",
      "#lists\n",
      "temp = []\n",
      "dictList = []"
     ],
     "language": "python",
     "metadata": {},
     "outputs": [],
     "prompt_number": 5
    },
    {
     "cell_type": "code",
     "collapsed": false,
     "input": [],
     "language": "python",
     "metadata": {},
     "outputs": []
    },
    {
     "cell_type": "code",
     "collapsed": false,
     "input": [
      "dict"
     ],
     "language": "python",
     "metadata": {},
     "outputs": [
      {
       "metadata": {},
       "output_type": "pyout",
       "prompt_number": 3,
       "text": [
        "{'2012': 'Olympics', 'Capital': 'London', 'Food': 'Fish&Chips'}"
       ]
      }
     ],
     "prompt_number": 3
    },
    {
     "cell_type": "code",
     "collapsed": false,
     "input": [
      "for key, value in dict.iteritems():\n",
      "    temp = [key,value]\n",
      "    dictList.append(temp)\n",
      "    \n",
      "dictList"
     ],
     "language": "python",
     "metadata": {},
     "outputs": [
      {
       "metadata": {},
       "output_type": "pyout",
       "prompt_number": 7,
       "text": [
        "[['Food', 'Fish&Chips'],\n",
        " ['2012', 'Olympics'],\n",
        " ['Capital', 'London'],\n",
        " ['Food', 'Fish&Chips'],\n",
        " ['2012', 'Olympics'],\n",
        " ['Capital', 'London']]"
       ]
      }
     ],
     "prompt_number": 7
    },
    {
     "cell_type": "code",
     "collapsed": false,
     "input": [
      "markup_range_pairs = {\"@@WALL@@\": [0.09667, 0.02],\n",
      "                      \"@@WINDOWS@@\": [3.2, 0.2],\n",
      "                      \"@@EPD@@\": [40, 5]}\n",
      "count = 10"
     ],
     "language": "python",
     "metadata": {},
     "outputs": [],
     "prompt_number": 8
    },
    {
     "cell_type": "code",
     "collapsed": false,
     "input": [
      "def generate_markup_values(markup_range_pairs, count):\n",
      "    markup_values_pairs = {}\n",
      "    for key in markup_range_pairs:\n",
      "        markup = key\n",
      "        ranges = markup_range_pairs[key]\n",
      "        sampling_values = Lhs(sampling_dist='uniform', n=1, samples=10).generate()\n",
      "        markup_values_pairs[markup] = sampling_values\n",
      "    return markup_values_pairs"
     ],
     "language": "python",
     "metadata": {},
     "outputs": []
    },
    {
     "cell_type": "code",
     "collapsed": false,
     "input": [
      "    markup_values_pairs = {}\n",
      "    for key in markup_range_pairs:\n",
      "        markup = key\n",
      "        ranges = markup_range_pairs[key]"
     ],
     "language": "python",
     "metadata": {},
     "outputs": [],
     "prompt_number": 9
    },
    {
     "cell_type": "code",
     "collapsed": false,
     "input": [
      "markup_range_pairs.values()"
     ],
     "language": "python",
     "metadata": {},
     "outputs": [
      {
       "metadata": {},
       "output_type": "pyout",
       "prompt_number": 20,
       "text": [
        "[[3.2, 0.2], [0.09667, 0.02], [40, 5]]"
       ]
      }
     ],
     "prompt_number": 20
    },
    {
     "cell_type": "code",
     "collapsed": false,
     "input": [
      "markup_range_pairs['@@WALL@@']"
     ],
     "language": "python",
     "metadata": {},
     "outputs": [
      {
       "metadata": {},
       "output_type": "pyout",
       "prompt_number": 26,
       "text": [
        "[0.09667, 0.02]"
       ]
      }
     ],
     "prompt_number": 26
    },
    {
     "cell_type": "code",
     "collapsed": false,
     "input": [
      "chain = [0.09667, 0.055, 2.792, 0.5, 22.8, 14.5, 21, 24, 23.4, 0.675, 0.72, 2.65]\n",
      "markup_values_pairs = dict(zip(['@@ROOF','@@WALL@@','@@WIN@@',\n",
      "                                '@@SHGC@@','@@EPD@@','@@LPD@@',\n",
      "                                '@@HSP@@','@@CSP@@','@@OCC@@',\n",
      "                                '@@INF@@','@@Boiler@@','@@COP@@'], chain))"
     ],
     "language": "python",
     "metadata": {},
     "outputs": [
      {
       "ename": "TypeError",
       "evalue": "'dict' object is not callable",
       "output_type": "pyerr",
       "traceback": [
        "\u001b[1;31m---------------------------------------------------------------------------\u001b[0m\n\u001b[1;31mTypeError\u001b[0m                                 Traceback (most recent call last)",
        "\u001b[1;32m<ipython-input-27-242d41af11b6>\u001b[0m in \u001b[0;36m<module>\u001b[1;34m()\u001b[0m\n\u001b[0;32m      3\u001b[0m                                 \u001b[1;34m'@@SHGC@@'\u001b[0m\u001b[1;33m,\u001b[0m\u001b[1;34m'@@EPD@@'\u001b[0m\u001b[1;33m,\u001b[0m\u001b[1;34m'@@LPD@@'\u001b[0m\u001b[1;33m,\u001b[0m\u001b[1;33m\u001b[0m\u001b[0m\n\u001b[0;32m      4\u001b[0m                                 \u001b[1;34m'@@HSP@@'\u001b[0m\u001b[1;33m,\u001b[0m\u001b[1;34m'@@CSP@@'\u001b[0m\u001b[1;33m,\u001b[0m\u001b[1;34m'@@OCC@@'\u001b[0m\u001b[1;33m,\u001b[0m\u001b[1;33m\u001b[0m\u001b[0m\n\u001b[1;32m----> 5\u001b[1;33m                                 '@@INF@@','@@Boiler@@','@@COP@@'], [chain]))\n\u001b[0m",
        "\u001b[1;31mTypeError\u001b[0m: 'dict' object is not callable"
       ]
      }
     ],
     "prompt_number": 27
    },
    {
     "cell_type": "code",
     "collapsed": false,
     "input": [
      "chain = [0.09667, 0.055, 2.792, 0.5, 22.8, 14.5, 21, 24, 23.4, 0.675, 0.72, 2.65]\n",
      "a = []\n",
      "for item in chain:\n",
      "    b =[item]\n",
      "    a.append(b)\n",
      "a"
     ],
     "language": "python",
     "metadata": {},
     "outputs": [
      {
       "metadata": {},
       "output_type": "pyout",
       "prompt_number": 39,
       "text": [
        "[[0.09667],\n",
        " [0.055],\n",
        " [2.792],\n",
        " [0.5],\n",
        " [22.8],\n",
        " [14.5],\n",
        " [21],\n",
        " [24],\n",
        " [23.4],\n",
        " [0.675],\n",
        " [0.72],\n",
        " [2.65]]"
       ]
      }
     ],
     "prompt_number": 39
    },
    {
     "cell_type": "code",
     "collapsed": false,
     "input": [
      "list(chain[0])"
     ],
     "language": "python",
     "metadata": {},
     "outputs": [
      {
       "ename": "TypeError",
       "evalue": "'float' object is not iterable",
       "output_type": "pyerr",
       "traceback": [
        "\u001b[1;31m---------------------------------------------------------------------------\u001b[0m\n\u001b[1;31mTypeError\u001b[0m                                 Traceback (most recent call last)",
        "\u001b[1;32m<ipython-input-35-8b6d0a982557>\u001b[0m in \u001b[0;36m<module>\u001b[1;34m()\u001b[0m\n\u001b[1;32m----> 1\u001b[1;33m \u001b[0mlist\u001b[0m\u001b[1;33m(\u001b[0m\u001b[0mchain\u001b[0m\u001b[1;33m[\u001b[0m\u001b[1;36m0\u001b[0m\u001b[1;33m]\u001b[0m\u001b[1;33m)\u001b[0m\u001b[1;33m\u001b[0m\u001b[0m\n\u001b[0m",
        "\u001b[1;31mTypeError\u001b[0m: 'float' object is not iterable"
       ]
      }
     ],
     "prompt_number": 35
    },
    {
     "cell_type": "markdown",
     "metadata": {},
     "source": [
      "6/20/2014 Post process "
     ]
    },
    {
     "cell_type": "code",
     "collapsed": false,
     "input": [
      "import csv\n",
      "import re\n",
      "import os\n",
      "\n",
      "current_dir = os.getcwd()\n",
      "path = \"test/out/0\"\n",
      "os.chdir(path)\n",
      "\n",
      "username = input()\n",
      "with open('eplusout.csv', 'rt') as f:\n",
      "     reader = csv.reader(f, delimiter=',') # good point by @paco\n",
      "     for row in reader:\n",
      "          for field in row:\n",
      "              if field == username:\n",
      "                  print \"is in file\"\n",
      "os.chdir(current_dir)"
     ],
     "language": "python",
     "metadata": {},
     "outputs": [
      {
       "name": "stdout",
       "output_type": "stream",
       "stream": "stdout",
       "text": [
        "Gas:Facility [J](RunPeriod)\n"
       ]
      },
      {
       "ename": "SyntaxError",
       "evalue": "invalid syntax (<string>, line 1)",
       "output_type": "pyerr",
       "traceback": [
        "\u001b[1;36m  File \u001b[1;32m\"<string>\"\u001b[1;36m, line \u001b[1;32m1\u001b[0m\n\u001b[1;33m    Gas:Facility [J](RunPeriod)\u001b[0m\n\u001b[1;37m       ^\u001b[0m\n\u001b[1;31mSyntaxError\u001b[0m\u001b[1;31m:\u001b[0m invalid syntax\n"
       ]
      }
     ],
     "prompt_number": 1
    },
    {
     "cell_type": "code",
     "collapsed": false,
     "input": [
      "import csv\n",
      "import re\n",
      "import os\n",
      "\n",
      "#current_dir = os.getcwd()\n",
      "path = \"test/out/0\"\n",
      "#os.chdir(path)\n",
      "with open('eplusout.csv', 'rb') as f:\n",
      "    reader = csv.reader(f)\n",
      "    reader = list(reader)\n",
      "    gas = float(reader[1][1])\n",
      "    elec = float(reader[1][2])\n",
      "    eui = (gas + elec) / 10336.99 / 10e8\n",
      "    print gas, elec, eui\n",
      "#os.chdir(current_dir)"
     ],
     "language": "python",
     "metadata": {},
     "outputs": [
      {
       "output_type": "stream",
       "stream": "stdout",
       "text": [
        "3.46822963304e+12 8.30397260187e+12 1.13884237432\n"
       ]
      }
     ],
     "prompt_number": 3
    },
    {
     "cell_type": "code",
     "collapsed": false,
     "input": [
      "10e9"
     ],
     "language": "python",
     "metadata": {},
     "outputs": [
      {
       "metadata": {},
       "output_type": "pyout",
       "prompt_number": 29,
       "text": [
        "10000000000.0"
       ]
      }
     ],
     "prompt_number": 29
    },
    {
     "cell_type": "code",
     "collapsed": false,
     "input": [
      "def get_eui(totalarea):\n",
      "    with open('eplusout.csv', 'rb') as f:\n",
      "        reader = csv.reader(f)\n",
      "        reader = list(reader)\n",
      "        gas = float(reader[1][1])\n",
      "        elec = float(reader[1][2])\n",
      "        eui = (gas + elec) / totalarea / 10e8\n",
      "    return eui"
     ],
     "language": "python",
     "metadata": {},
     "outputs": [],
     "prompt_number": 1
    },
    {
     "cell_type": "code",
     "collapsed": false,
     "input": [
      "import os\n",
      "import csv\n",
      "\n",
      "#current_dir = os.getcwd()\n",
      "#path = \"test/out/0\"\n",
      "#os.chdir(path)\n",
      "totalarea = 10336.99\n",
      "eui = get_eui(totalarea)\n",
      "print eui\n",
      "#os.chdir(current_dir)"
     ],
     "language": "python",
     "metadata": {},
     "outputs": [
      {
       "output_type": "stream",
       "stream": "stdout",
       "text": [
        "1.13884237432\n"
       ]
      }
     ],
     "prompt_number": 15
    }
   ],
   "metadata": {}
  }
 ]
}