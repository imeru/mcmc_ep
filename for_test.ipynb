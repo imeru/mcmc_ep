{
 "metadata": {
  "name": "",
  "signature": "sha256:9b35347720c0768b742106205c62f9f5029bb72e0c2553c27cb483ed13cc1271"
 },
 "nbformat": 3,
 "nbformat_minor": 0,
 "worksheets": [
  {
   "cells": [
    {
     "cell_type": "code",
     "collapsed": false,
     "input": [
      "#My dictionary\n",
      "dict = {}\n",
      "dict['Capital']=\"London\"\n",
      "dict['Food']=\"Fish&Chips\"\n",
      "dict['2012']=\"Olympics\"\n",
      "\n",
      "#lists\n",
      "temp = []\n",
      "dictList = []"
     ],
     "language": "python",
     "metadata": {},
     "outputs": [],
     "prompt_number": 5
    },
    {
     "cell_type": "code",
     "collapsed": false,
     "input": [
      "dict"
     ],
     "language": "python",
     "metadata": {},
     "outputs": [
      {
       "metadata": {},
       "output_type": "pyout",
       "prompt_number": 3,
       "text": [
        "{'2012': 'Olympics', 'Capital': 'London', 'Food': 'Fish&Chips'}"
       ]
      }
     ],
     "prompt_number": 3
    },
    {
     "cell_type": "code",
     "collapsed": false,
     "input": [
      "for key, value in dict.iteritems():\n",
      "    temp = [key,value]\n",
      "    dictList.append(temp)\n",
      "    \n",
      "dictList"
     ],
     "language": "python",
     "metadata": {},
     "outputs": [
      {
       "metadata": {},
       "output_type": "pyout",
       "prompt_number": 7,
       "text": [
        "[['Food', 'Fish&Chips'],\n",
        " ['2012', 'Olympics'],\n",
        " ['Capital', 'London'],\n",
        " ['Food', 'Fish&Chips'],\n",
        " ['2012', 'Olympics'],\n",
        " ['Capital', 'London']]"
       ]
      }
     ],
     "prompt_number": 7
    },
    {
     "cell_type": "code",
     "collapsed": false,
     "input": [
      "markup_range_pairs = {\"@@WALL@@\": [0.09667, 0.02],\n",
      "                      \"@@WINDOWS@@\": [3.2, 0.2],\n",
      "                      \"@@EPD@@\": [40, 5]}\n",
      "count = 10"
     ],
     "language": "python",
     "metadata": {},
     "outputs": [],
     "prompt_number": 8
    },
    {
     "cell_type": "code",
     "collapsed": false,
     "input": [
      "def generate_markup_values(markup_range_pairs, count):\n",
      "    markup_values_pairs = {}\n",
      "    for key in markup_range_pairs:\n",
      "        markup = key\n",
      "        ranges = markup_range_pairs[key]\n",
      "        sampling_values = Lhs(sampling_dist='uniform', n=1, samples=10).generate()\n",
      "        markup_values_pairs[markup] = sampling_values\n",
      "    return markup_values_pairs"
     ],
     "language": "python",
     "metadata": {},
     "outputs": []
    },
    {
     "cell_type": "code",
     "collapsed": false,
     "input": [
      "    markup_values_pairs = {}\n",
      "    for key in markup_range_pairs:\n",
      "        markup = key\n",
      "        ranges = markup_range_pairs[key]"
     ],
     "language": "python",
     "metadata": {},
     "outputs": [],
     "prompt_number": 9
    },
    {
     "cell_type": "code",
     "collapsed": false,
     "input": [
      "markup_range_pairs.values()"
     ],
     "language": "python",
     "metadata": {},
     "outputs": [
      {
       "metadata": {},
       "output_type": "pyout",
       "prompt_number": 20,
       "text": [
        "[[3.2, 0.2], [0.09667, 0.02], [40, 5]]"
       ]
      }
     ],
     "prompt_number": 20
    },
    {
     "cell_type": "code",
     "collapsed": false,
     "input": [
      "markup_range_pairs['@@WALL@@']"
     ],
     "language": "python",
     "metadata": {},
     "outputs": [
      {
       "metadata": {},
       "output_type": "pyout",
       "prompt_number": 26,
       "text": [
        "[0.09667, 0.02]"
       ]
      }
     ],
     "prompt_number": 26
    },
    {
     "cell_type": "code",
     "collapsed": false,
     "input": [
      "chain = [0.09667, 0.055, 2.792, 0.5, 22.8, 14.5, 21, 24, 23.4, 0.675, 0.72, 2.65]\n",
      "markup_values_pairs = dict(zip(['@@ROOF','@@WALL@@','@@WIN@@',\n",
      "                                '@@SHGC@@','@@EPD@@','@@LPD@@',\n",
      "                                '@@HSP@@','@@CSP@@','@@OCC@@',\n",
      "                                '@@INF@@','@@Boiler@@','@@COP@@'], chain))"
     ],
     "language": "python",
     "metadata": {},
     "outputs": [
      {
       "ename": "TypeError",
       "evalue": "'dict' object is not callable",
       "output_type": "pyerr",
       "traceback": [
        "\u001b[1;31m---------------------------------------------------------------------------\u001b[0m\n\u001b[1;31mTypeError\u001b[0m                                 Traceback (most recent call last)",
        "\u001b[1;32m<ipython-input-27-242d41af11b6>\u001b[0m in \u001b[0;36m<module>\u001b[1;34m()\u001b[0m\n\u001b[0;32m      3\u001b[0m                                 \u001b[1;34m'@@SHGC@@'\u001b[0m\u001b[1;33m,\u001b[0m\u001b[1;34m'@@EPD@@'\u001b[0m\u001b[1;33m,\u001b[0m\u001b[1;34m'@@LPD@@'\u001b[0m\u001b[1;33m,\u001b[0m\u001b[1;33m\u001b[0m\u001b[0m\n\u001b[0;32m      4\u001b[0m                                 \u001b[1;34m'@@HSP@@'\u001b[0m\u001b[1;33m,\u001b[0m\u001b[1;34m'@@CSP@@'\u001b[0m\u001b[1;33m,\u001b[0m\u001b[1;34m'@@OCC@@'\u001b[0m\u001b[1;33m,\u001b[0m\u001b[1;33m\u001b[0m\u001b[0m\n\u001b[1;32m----> 5\u001b[1;33m                                 '@@INF@@','@@Boiler@@','@@COP@@'], [chain]))\n\u001b[0m",
        "\u001b[1;31mTypeError\u001b[0m: 'dict' object is not callable"
       ]
      }
     ],
     "prompt_number": 27
    },
    {
     "cell_type": "code",
     "collapsed": false,
     "input": [
      "chain = [0.09667, 0.055, 2.792, 0.5, 22.8, 14.5, 21, 24, 23.4, 0.675, 0.72, 2.65]\n",
      "a = []\n",
      "for item in chain:\n",
      "    b =[item]\n",
      "    a.append(b)\n",
      "a"
     ],
     "language": "python",
     "metadata": {},
     "outputs": [
      {
       "metadata": {},
       "output_type": "pyout",
       "prompt_number": 39,
       "text": [
        "[[0.09667],\n",
        " [0.055],\n",
        " [2.792],\n",
        " [0.5],\n",
        " [22.8],\n",
        " [14.5],\n",
        " [21],\n",
        " [24],\n",
        " [23.4],\n",
        " [0.675],\n",
        " [0.72],\n",
        " [2.65]]"
       ]
      }
     ],
     "prompt_number": 39
    },
    {
     "cell_type": "code",
     "collapsed": false,
     "input": [
      "list(chain[0])"
     ],
     "language": "python",
     "metadata": {},
     "outputs": [
      {
       "ename": "TypeError",
       "evalue": "'float' object is not iterable",
       "output_type": "pyerr",
       "traceback": [
        "\u001b[1;31m---------------------------------------------------------------------------\u001b[0m\n\u001b[1;31mTypeError\u001b[0m                                 Traceback (most recent call last)",
        "\u001b[1;32m<ipython-input-35-8b6d0a982557>\u001b[0m in \u001b[0;36m<module>\u001b[1;34m()\u001b[0m\n\u001b[1;32m----> 1\u001b[1;33m \u001b[0mlist\u001b[0m\u001b[1;33m(\u001b[0m\u001b[0mchain\u001b[0m\u001b[1;33m[\u001b[0m\u001b[1;36m0\u001b[0m\u001b[1;33m]\u001b[0m\u001b[1;33m)\u001b[0m\u001b[1;33m\u001b[0m\u001b[0m\n\u001b[0m",
        "\u001b[1;31mTypeError\u001b[0m: 'float' object is not iterable"
       ]
      }
     ],
     "prompt_number": 35
    },
    {
     "cell_type": "markdown",
     "metadata": {},
     "source": [
      "6/20/2014 Post process "
     ]
    },
    {
     "cell_type": "code",
     "collapsed": false,
     "input": [
      "import csv\n",
      "import re\n",
      "import os\n",
      "\n",
      "current_dir = os.getcwd()\n",
      "path = \"test/out/0\"\n",
      "os.chdir(path)\n",
      "\n",
      "username = input()\n",
      "with open('eplusout.csv', 'rt') as f:\n",
      "     reader = csv.reader(f, delimiter=',') # good point by @paco\n",
      "     for row in reader:\n",
      "          for field in row:\n",
      "              if field == username:\n",
      "                  print \"is in file\"\n",
      "os.chdir(current_dir)"
     ],
     "language": "python",
     "metadata": {},
     "outputs": [
      {
       "name": "stdout",
       "output_type": "stream",
       "stream": "stdout",
       "text": [
        "Gas:Facility [J](RunPeriod)\n"
       ]
      },
      {
       "ename": "SyntaxError",
       "evalue": "invalid syntax (<string>, line 1)",
       "output_type": "pyerr",
       "traceback": [
        "\u001b[1;36m  File \u001b[1;32m\"<string>\"\u001b[1;36m, line \u001b[1;32m1\u001b[0m\n\u001b[1;33m    Gas:Facility [J](RunPeriod)\u001b[0m\n\u001b[1;37m       ^\u001b[0m\n\u001b[1;31mSyntaxError\u001b[0m\u001b[1;31m:\u001b[0m invalid syntax\n"
       ]
      }
     ],
     "prompt_number": 1
    },
    {
     "cell_type": "code",
     "collapsed": false,
     "input": [
      "import csv\n",
      "import re\n",
      "import os\n",
      "\n",
      "#current_dir = os.getcwd()\n",
      "path = \"test/out/0\"\n",
      "#os.chdir(path)\n",
      "with open('eplusout.csv', 'rb') as f:\n",
      "    reader = csv.reader(f)\n",
      "    reader = list(reader)\n",
      "    gas = float(reader[1][1])\n",
      "    elec = float(reader[1][2])\n",
      "    eui = (gas + elec) / 10336.99 / 10e8\n",
      "    print gas, elec, eui\n",
      "#os.chdir(current_dir)"
     ],
     "language": "python",
     "metadata": {},
     "outputs": [
      {
       "output_type": "stream",
       "stream": "stdout",
       "text": [
        "3.46822963304e+12 8.30397260187e+12 1.13884237432\n"
       ]
      }
     ],
     "prompt_number": 3
    },
    {
     "cell_type": "code",
     "collapsed": false,
     "input": [
      "def get_eui(totalarea):\n",
      "    with open('eplusout.csv', 'rb') as f:\n",
      "        reader = csv.reader(f)\n",
      "        reader = list(reader)\n",
      "        gas = float(reader[1][1])\n",
      "        elec = float(reader[1][2])\n",
      "        eui = (gas + elec) / totalarea / 10e8\n",
      "    return eui"
     ],
     "language": "python",
     "metadata": {},
     "outputs": [],
     "prompt_number": 1
    },
    {
     "cell_type": "code",
     "collapsed": false,
     "input": [
      "import os\n",
      "import csv\n",
      "\n",
      "#current_dir = os.getcwd()\n",
      "#path = \"test/out/0\"\n",
      "#os.chdir(path)\n",
      "totalarea = 10336.99\n",
      "eui = get_eui(totalarea)\n",
      "print eui\n",
      "#os.chdir(current_dir)"
     ],
     "language": "python",
     "metadata": {},
     "outputs": [
      {
       "output_type": "stream",
       "stream": "stdout",
       "text": [
        "1.13884237432\n"
       ]
      }
     ],
     "prompt_number": 15
    },
    {
     "cell_type": "code",
     "collapsed": false,
     "input": [
      "import numpy as np\n",
      "import pandas as pd\n",
      "import math\n",
      "from scipy.stats import triang, norm\n",
      "import time\n",
      "\n",
      "# For Driver\n",
      "import sys\n",
      "import os\n",
      "import shutil\n",
      "import csv\n",
      "from subprocess import call"
     ],
     "language": "python",
     "metadata": {},
     "outputs": [],
     "prompt_number": 2
    },
    {
     "cell_type": "code",
     "collapsed": false,
     "input": [
      "def likelihood(param):\n",
      "    ROOF = param[0]\n",
      "    WALL = param[1]\n",
      "    WIN = param[2]\n",
      "    SHGC = param[3]\n",
      "    EPD = param[4]\n",
      "    LPD = param[5]\n",
      "    HSP = param[6]\n",
      "    CSP = param[7]\n",
      "    OCC = param[8]\n",
      "    INF = param[9]\n",
      "    Boiler = param[10]\n",
      "    COP = param[11]\n",
      "    \n",
      "    \"\"\"\n",
      "    #---------------------------------\n",
      "    #to do: get the EUI from energyplus\n",
      "    prediction = -0.2177929 - 0.2458677 * ROOF - 0.3842544 * WALL - 0.0049753 * WIN  \\\n",
      "        + 0.0176093 * SHGC + 0.014322 * EPD + 0.0125891 * LPD + 0.0518334 * HSP \\\n",
      "        +0.0026691 * CSP + 0.0003318 * OCC + 0.5664563* INF - 0.6163375 * Boiler \\\n",
      "        - 0.0425599 * COP\n",
      "    #---------------------------------\n",
      "    \"\"\"\n",
      "    count = 1\n",
      "    chain = []\n",
      "    for item in param:\n",
      "        temp =[item]\n",
      "        chain.append(temp)\n",
      "    \n",
      "    global markup_values_pairs, markup_value_pairs, path\n",
      "    markup_values_pairs = dict(zip(['@@ROOF@@','@@WALL@@','@@WIN@@',\n",
      "                                '@@SHGC@@','@@EPD@@','@@LPD@@',\n",
      "                                '@@HSP@@','@@CSP@@','@@OCC@@',\n",
      "                                '@@INF@@','@@Boiler@@','@@COP@@'], chain))\n",
      "\n",
      "    # prepares jobs\n",
      "    markup_value_pairs = generate_markup_value_pairs(markup_values_pairs, count)\n",
      "    path = prepare_job_folders(output_folder, template_idf_path, eplus_basic_folder, markup_value_pairs)\n",
      "    \n",
      "    # Run energyplus and get eui value\n",
      "    prediction = run_eplus(path)\n",
      "         \n",
      "    singlelikelihoods = norm.logpdf(x=y, loc=prediction, scale=sd)\n",
      "    #sumll = sum(singlelikelihoods)\n",
      "    return singlelikelihoods"
     ],
     "language": "python",
     "metadata": {},
     "outputs": [],
     "prompt_number": 3
    },
    {
     "cell_type": "code",
     "collapsed": false,
     "input": [
      "y = 1.7\n",
      "sd = 0.1\n",
      "startvalue = [0.09667, 0.055, 2.792, 0.5, 22.8, 14.5, 21, 24, 23.4, 0.675, 0.72, 2.65]\n",
      "iterations = 10\n",
      "totalarea = 10336.99\n",
      "template_idf_path = \"test/campusbuilding.idf\"\n",
      "eplus_basic_folder = \"test/basic_files\"\n",
      "output_folder = \"test/out\""
     ],
     "language": "python",
     "metadata": {},
     "outputs": [],
     "prompt_number": 9
    },
    {
     "cell_type": "code",
     "collapsed": false,
     "input": [
      "\n",
      "def replace_markup(line, markup_value_pairs):\n",
      "    for markup in markup_value_pairs.keys():\n",
      "        line = line.replace(markup, str(markup_value_pairs[markup]))\n",
      "    return line\n",
      "\n",
      "\n",
      "def generate_markup_value_pairs(markup_values_pairs, count):\n",
      "    markup_value_pairs  = []\n",
      "    for index in range(count):\n",
      "        markup_value = {}\n",
      "        for key in markup_values_pairs:\n",
      "            markup_value[key] = markup_values_pairs[key].pop()\n",
      "        markup_value_pairs.append(markup_value)\n",
      "    return markup_value_pairs\n",
      "\n",
      "\n",
      "def write_idf(template_path, output_path, markup_value_pairs):\n",
      "    origin = open(template_path, 'r')\n",
      "    new = open(output_path, 'w')\n",
      "    for line in origin:\n",
      "        replaced_line = replace_markup(line, markup_value_pairs)\n",
      "        new.write(replaced_line)\n",
      "    origin.close()\n",
      "    new.close()\n",
      "\n",
      "           \n",
      "def copy_files(orig, dest):\n",
      "    files = os.listdir(orig)\n",
      "    for file_name in files:\n",
      "        file_path = os.path.join(orig, file_name)\n",
      "        shutil.copy(file_path, dest)\n",
      "\n",
      "def prepare_job_folders(output_folder, template_idf_path,\n",
      "                        eplus_basic_folder, markup_value_pairs):\n",
      "    # check output path\n",
      "    if os.path.exists(output_folder):\n",
      "        shutil.rmtree(output_folder)\n",
      "    pathes = []\n",
      "    for index, markup_value_pair in enumerate(markup_value_pairs):\n",
      "        path_to_write = output_folder + \"/\" + str(index)\n",
      "        pathes.append(path_to_write)\n",
      "        output_path = path_to_write + \"/\" + \"in.idf\"\n",
      "        os.makedirs(path_to_write)\n",
      "        copy_files(eplus_basic_folder, path_to_write)\n",
      "        write_idf(template_idf_path, output_path, markup_value_pair)\n",
      "        path = pathes[0]\n",
      "    return path\n",
      "\n",
      "    \n",
      "\n",
      "def run_eplus(path):\n",
      "    current_dir = os.getcwd()\n",
      "    os.chdir(path)\n",
      "    call([\"EnergyPlus\"])\n",
      "    call([\"ReadVarsESO\", \"my_results.rvi\"])\n",
      "    eui = get_eui(totalarea)\n",
      "    os.chdir(current_dir)\n",
      "    return eui \n",
      "\n",
      "\n",
      "def get_eui(totalarea):\n",
      "    with open('eplusout.csv', 'rb') as f:\n",
      "        reader = csv.reader(f)\n",
      "        reader = list(reader)\n",
      "        gas = float(reader[1][1])\n",
      "        elec = float(reader[1][2])\n",
      "        eui = (gas + elec) / totalarea / 10e8\n",
      "    return eui"
     ],
     "language": "python",
     "metadata": {},
     "outputs": [],
     "prompt_number": 10
    },
    {
     "cell_type": "code",
     "collapsed": false,
     "input": [
      "def tri_logdensity(x, min, max, mode):\n",
      "    loc = min\n",
      "    scale = max - min\n",
      "    c = (mode - min)/scale\n",
      "    log_density = triang.logpdf(x = x, c = c, loc = loc, scale = scale)\n",
      "    return log_density\n",
      "\n",
      "# Priors \n",
      "def prior(param):\n",
      "    ROOF = param[0]\n",
      "    WALL = param[1]\n",
      "    WIN = param[2]\n",
      "    SHGC = param[3]\n",
      "    EPD = param[4]\n",
      "    LPD = param[5]\n",
      "    HSP = param[6]\n",
      "    CSP = param[7]\n",
      "    OCC = param[8]\n",
      "    INF = param[9]\n",
      "    Boiler = param[10]\n",
      "    COP = param[11]\n",
      "\n",
      "    ROOF_prior = tri_logdensity(x = ROOF, min = 0.01, max = 0.25, mode = 0.09667)\n",
      "    WALL_prior = tri_logdensity(x = WALL, min = 0.01, max = 0.25, mode = 0.055)\n",
      "    WIN_prior = tri_logdensity(x = WIN, min = 1, max = 5, mode = 2.792)\n",
      "    SHGC_prior = tri_logdensity(x = SHGC, min = 0.1, max = 0.9, mode = 0.5)\n",
      "    EPD_prior = tri_logdensity(x = EPD, min = 1, max = 70, mode = 22.8)\n",
      "    LPD_prior = tri_logdensity(x = LPD, min = 1, max = 50, mode = 14.5)\n",
      "    HSP_prior = tri_logdensity(x = HSP, min = 17, max = 28, mode = 21)\n",
      "    CSP_prior = tri_logdensity(x = CSP, min = 17, max = 28, mode = 24)\n",
      "    OCC_prior = tri_logdensity(x = OCC, min = 1, max = 50, mode = 23.4)\n",
      "    INF_prior = tri_logdensity(x = INF, min = 0.1, max = 2, mode = 0.675)\n",
      "    Boiler_prior = tri_logdensity(x = Boiler, min = 0.5, max = 0.99, mode = 0.72)\n",
      "    COP_prior = tri_logdensity(x = COP, min = 2, max = 4, mode = 2.65)\n",
      "    return ROOF_prior+WALL_prior+WIN_prior+SHGC_prior+EPD_prior+LPD_prior\\\n",
      "        +HSP_prior+CSP_prior+OCC_prior+INF_prior+Boiler_prior+COP_prior\n",
      "    \n",
      "    #Posterior \n",
      "def posterior(param):\n",
      "    return likelihood(param) + prior(param)\n",
      "\n",
      "\n",
      "\n",
      "#Proposal function\n",
      "def proposalfunction(param):\n",
      "    return abs(np.random.normal(loc=param, scale=[0.02,0.015,0.43,0.1,7,4,1.3,1.3,6.75,0.19,0.06,0.167]))\n",
      "\n",
      "#Metro-Polis MCMC\n",
      "def run_metropolis_MCMC(startvalue, iterations):\n",
      "    chain = [[0 for x in xrange(12)] for x in xrange(iterations)]\n",
      "    chain[0] = startvalue\n",
      "    for i in range(1,iterations):\n",
      "        proposal = proposalfunction(chain[i-1])\n",
      "        probab = min(1, math.exp(posterior(proposal) - posterior(chain[i-1])))\n",
      "        if np.random.uniform() < probab:\n",
      "            chain[i] = list(proposal)\n",
      "        else:\n",
      "            chain[i] = list(chain[i-1])\n",
      "    return chain"
     ],
     "language": "python",
     "metadata": {},
     "outputs": [],
     "prompt_number": 11
    },
    {
     "cell_type": "code",
     "collapsed": false,
     "input": [
      "likelihood(param)"
     ],
     "language": "python",
     "metadata": {},
     "outputs": [
      {
       "metadata": {},
       "output_type": "pyout",
       "prompt_number": 6,
       "text": [
        "-14.361247483209871"
       ]
      }
     ],
     "prompt_number": 6
    },
    {
     "cell_type": "code",
     "collapsed": false,
     "input": [
      "run_metropolis_MCMC(startvalue, iterations)"
     ],
     "language": "python",
     "metadata": {},
     "outputs": [
      {
       "metadata": {},
       "output_type": "pyout",
       "prompt_number": 12,
       "text": [
        "[[0.09667, 0.055, 2.792, 0.5, 22.8, 14.5, 21, 24, 23.4, 0.675, 0.72, 2.65],\n",
        " [0.09667, 0.055, 2.792, 0.5, 22.8, 14.5, 21, 24, 23.4, 0.675, 0.72, 2.65],\n",
        " [0.10296865560512085,\n",
        "  0.056054643523422147,\n",
        "  2.3224219734429798,\n",
        "  0.5951252582866785,\n",
        "  27.88875051368926,\n",
        "  13.326543138486898,\n",
        "  18.59627481898719,\n",
        "  22.119391013043685,\n",
        "  29.648374461726931,\n",
        "  0.75557074945120895,\n",
        "  0.6827857137163531,\n",
        "  2.7538154193109823],\n",
        " [0.13264646494716575,\n",
        "  0.039334126557683702,\n",
        "  2.3953983815251627,\n",
        "  0.55215035987279892,\n",
        "  35.946586982130455,\n",
        "  9.2526908399991612,\n",
        "  19.453289368219306,\n",
        "  22.792478829387537,\n",
        "  29.139989410061801,\n",
        "  0.97231910944204569,\n",
        "  0.73844524582851978,\n",
        "  2.7083125035763178],\n",
        " [0.13264646494716575,\n",
        "  0.039334126557683702,\n",
        "  2.3953983815251627,\n",
        "  0.55215035987279892,\n",
        "  35.946586982130455,\n",
        "  9.2526908399991612,\n",
        "  19.453289368219306,\n",
        "  22.792478829387537,\n",
        "  29.139989410061801,\n",
        "  0.97231910944204569,\n",
        "  0.73844524582851978,\n",
        "  2.7083125035763178],\n",
        " [0.12962422670344675,\n",
        "  0.047858147606705745,\n",
        "  2.6982010411045794,\n",
        "  0.54366033483999532,\n",
        "  41.303846805170863,\n",
        "  8.0504241757675956,\n",
        "  19.749005248274614,\n",
        "  23.873446084002872,\n",
        "  20.967603382947019,\n",
        "  0.90000173012244744,\n",
        "  0.69575109191413942,\n",
        "  2.7789947151259393],\n",
        " [0.14015189534262629,\n",
        "  0.010985068648024836,\n",
        "  2.1334628532620155,\n",
        "  0.5382291297553502,\n",
        "  48.679587081744756,\n",
        "  11.424567549212577,\n",
        "  18.999827675929239,\n",
        "  23.644041082288666,\n",
        "  27.866050551156611,\n",
        "  0.93134661812016828,\n",
        "  0.6048980944906106,\n",
        "  2.8800614926371888],\n",
        " [0.14015189534262629,\n",
        "  0.010985068648024836,\n",
        "  2.1334628532620155,\n",
        "  0.5382291297553502,\n",
        "  48.679587081744756,\n",
        "  11.424567549212577,\n",
        "  18.999827675929239,\n",
        "  23.644041082288666,\n",
        "  27.866050551156611,\n",
        "  0.93134661812016828,\n",
        "  0.6048980944906106,\n",
        "  2.8800614926371888],\n",
        " [0.12613981023627022,\n",
        "  0.029245040234549904,\n",
        "  2.0104292527260186,\n",
        "  0.5454445233580808,\n",
        "  57.474657890446046,\n",
        "  12.507840246064861,\n",
        "  18.062084005654746,\n",
        "  22.702400404631867,\n",
        "  26.663222758524686,\n",
        "  0.5587756016734714,\n",
        "  0.6735677145109743,\n",
        "  2.9298426882732467],\n",
        " [0.12613981023627022,\n",
        "  0.029245040234549904,\n",
        "  2.0104292527260186,\n",
        "  0.5454445233580808,\n",
        "  57.474657890446046,\n",
        "  12.507840246064861,\n",
        "  18.062084005654746,\n",
        "  22.702400404631867,\n",
        "  26.663222758524686,\n",
        "  0.5587756016734714,\n",
        "  0.6735677145109743,\n",
        "  2.9298426882732467]]"
       ]
      }
     ],
     "prompt_number": 12
    },
    {
     "cell_type": "markdown",
     "metadata": {},
     "source": [
      "06/24/2014 mcmc_ep success <br>\n",
      "To improve: make chain function test"
     ]
    },
    {
     "cell_type": "code",
     "collapsed": false,
     "input": [
      "startvalue = [0.09667, 0.055, 2.792, 0.5, 22.8, 14.5, 21, 24, 23.4, 0.675, 0.72, 2.65]\n",
      "chain = []\n",
      "for item in startvalue:\n",
      "    temp =[item]\n",
      "    chain.append(temp)\n",
      "chain"
     ],
     "language": "python",
     "metadata": {},
     "outputs": [
      {
       "metadata": {},
       "output_type": "pyout",
       "prompt_number": 3,
       "text": [
        "[[0.09667],\n",
        " [0.055],\n",
        " [2.792],\n",
        " [0.5],\n",
        " [22.8],\n",
        " [14.5],\n",
        " [21],\n",
        " [24],\n",
        " [23.4],\n",
        " [0.675],\n",
        " [0.72],\n",
        " [2.65]]"
       ]
      }
     ],
     "prompt_number": 3
    },
    {
     "cell_type": "code",
     "collapsed": false,
     "input": [
      "def make_chainlist(list):\n",
      "    chain = []\n",
      "    for item in list:\n",
      "        temp =[item]\n",
      "        chain.append(temp)\n",
      "    return chain\n"
     ],
     "language": "python",
     "metadata": {},
     "outputs": [],
     "prompt_number": 7
    },
    {
     "cell_type": "code",
     "collapsed": false,
     "input": [
      "make_chainlist(startvalue)"
     ],
     "language": "python",
     "metadata": {},
     "outputs": [
      {
       "metadata": {},
       "output_type": "pyout",
       "prompt_number": 8,
       "text": [
        "[[0.09667],\n",
        " [0.055],\n",
        " [2.792],\n",
        " [0.5],\n",
        " [22.8],\n",
        " [14.5],\n",
        " [21],\n",
        " [24],\n",
        " [23.4],\n",
        " [0.675],\n",
        " [0.72],\n",
        " [2.65]]"
       ]
      }
     ],
     "prompt_number": 8
    }
   ],
   "metadata": {}
  }
 ]
}