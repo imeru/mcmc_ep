{
 "metadata": {
  "name": "",
  "signature": "sha256:19c0f7d86a578cb2b0a5c1e995efbad734bdcf90fd8b4a977cbdd6b65ab21e3b"
 },
 "nbformat": 3,
 "nbformat_minor": 0,
 "worksheets": [
  {
   "cells": [
    {
     "cell_type": "markdown",
     "metadata": {},
     "source": [
      "MCMC \ub0b4\uc5d0 \ubc14\uafd4\uc11c \uc5f0\uc2b5\uc911\n",
      "\uc5d0\ub108\uc9c0 \ud50c\ub7ec\uc2a4 \ub3cc\ub9ac\ub294 \uac83\uc744 \ubc14\uae65\uc73c\ub85c \uaebc\ub0c8\uc74c\n",
      "\ub97c \ub9cc\ub4e4\uae30 \uc704\ud574 linear model\ub85c \uc5f0\uc2b5\n"
     ]
    },
    {
     "cell_type": "code",
     "collapsed": false,
     "input": [
      "# Import relevant modules\n",
      "import numpy as np\n",
      "import pandas as pd\n",
      "import math\n",
      "from scipy.stats import triang, norm"
     ],
     "language": "python",
     "metadata": {},
     "outputs": [
      {
       "output_type": "stream",
       "stream": "stderr",
       "text": [
        "C:\\Users\\Hyunwoo\\AppData\\Local\\Enthought\\Canopy\\User\\lib\\site-packages\\pandas\\io\\excel.py:626: UserWarning: Installed openpyxl is not supported at this time. Use >=1.6.1 and <2.0.0.\n",
        "  .format(openpyxl_compat.start_ver, openpyxl_compat.stop_ver))\n"
       ]
      }
     ],
     "prompt_number": 2
    },
    {
     "cell_type": "code",
     "collapsed": false,
     "input": [
      "def tri_logdensity(x, min, max, mode):\n",
      "    loc = min\n",
      "    scale = max - min\n",
      "    c = (mode - min)/scale\n",
      "    log_density = triang.logpdf(x = x, c = c, loc = loc, scale = scale)\n",
      "    return log_density\n"
     ],
     "language": "python",
     "metadata": {},
     "outputs": [],
     "prompt_number": 3
    },
    {
     "cell_type": "code",
     "collapsed": false,
     "input": [
      "# Priors \n",
      "def prior(param):\n",
      "    ROOF = param[0]\n",
      "    WALL = param[1]\n",
      "    WIN = param[2]\n",
      "    SHGC = param[3]\n",
      "    EPD = param[4]\n",
      "    LPD = param[5]\n",
      "    HSP = param[6]\n",
      "    CSP = param[7]\n",
      "    OCC = param[8]\n",
      "    INF = param[9]\n",
      "    Boiler = param[10]\n",
      "    COP = param[11]\n",
      "\n",
      "    ROOF_prior = tri_logdensity(x = ROOF, min = 0.01, max = 0.25, mode = 0.09667)\n",
      "    WALL_prior = tri_logdensity(x = WALL, min = 0.01, max = 0.25, mode = 0.055)\n",
      "    WIN_prior = tri_logdensity(x = WIN, min = 1, max = 5, mode = 2.792)\n",
      "    SHGC_prior = tri_logdensity(x = SHGC, min = 0.1, max = 0.9, mode = 0.5)\n",
      "    EPD_prior = tri_logdensity(x = EPD, min = 1, max = 70, mode = 22.8)\n",
      "    LPD_prior = tri_logdensity(x = LPD, min = 1, max = 50, mode = 14.5)\n",
      "    HSP_prior = tri_logdensity(x = HSP, min = 17, max = 28, mode = 21)\n",
      "    CSP_prior = tri_logdensity(x = CSP, min = 17, max = 28, mode = 24)\n",
      "    OCC_prior = tri_logdensity(x = OCC, min = 1, max = 50, mode = 23.4)\n",
      "    INF_prior = tri_logdensity(x = INF, min = 0.1, max = 2, mode = 0.675)\n",
      "    Boiler_prior = tri_logdensity(x = Boiler, min = 0.5, max = 0.99, mode = 0.72)\n",
      "    COP_prior = tri_logdensity(x = COP, min = 2, max = 4, mode = 2.65)\n",
      "    return ROOF_prior+WALL_prior+WIN_prior+SHGC_prior+EPD_prior+LPD_prior+HSP_prior+\\\n",
      "    CSP_prior+OCC_prior+INF_prior+Boiler_prior+COP_prior"
     ],
     "language": "python",
     "metadata": {},
     "outputs": [],
     "prompt_number": 4
    },
    {
     "cell_type": "code",
     "collapsed": false,
     "input": [
      "#Likelihood function\n",
      "def likelihood(param):\n",
      "    ROOF = param[0]\n",
      "    WALL = param[1]\n",
      "    WIN = param[2]\n",
      "    SHGC = param[3]\n",
      "    EPD = param[4]\n",
      "    LPD = param[5]\n",
      "    HSP = param[6]\n",
      "    CSP = param[7]\n",
      "    OCC = param[8]\n",
      "    INF = param[9]\n",
      "    Boiler = param[10]\n",
      "    COP = param[11]\n",
      "    \n",
      "    \"\"\"\n",
      "    #---------------------------------\n",
      "    #to do: get the EUI from energyplus\n",
      "    prediction = -0.2177929 - 0.2458677 * ROOF - 0.3842544 * WALL - 0.0049753 * WIN  \\\n",
      "        + 0.0176093 * SHGC + 0.014322 * EPD + 0.0125891 * LPD + 0.0518334 * HSP \\\n",
      "        +0.0026691 * CSP + 0.0003318 * OCC + 0.5664563* INF - 0.6163375 * Boiler \\\n",
      "        - 0.0425599 * COP\n",
      "    #---------------------------------\n",
      "    \"\"\"\n",
      "    prediction = param[12]\n",
      "    singlelikelihoods = norm.logpdf(x=y, loc=prediction, scale=sd)\n",
      "    #sumll = sum(singlelikelihoods)\n",
      "    return singlelikelihoods\n",
      "\n",
      "    \n",
      "    "
     ],
     "language": "python",
     "metadata": {},
     "outputs": [],
     "prompt_number": 5
    },
    {
     "cell_type": "code",
     "collapsed": false,
     "input": [
      "#Posterior \n",
      "def posterior(param):\n",
      "    return likelihood(param) + prior(param)\n"
     ],
     "language": "python",
     "metadata": {},
     "outputs": [],
     "prompt_number": 6
    },
    {
     "cell_type": "code",
     "collapsed": false,
     "input": [
      "#Proposal function\n",
      "\n",
      "def proposalfunction(param):\n",
      "    return abs(np.random.normal(loc=param, scale=[0.02,0.015,0.43,0.1,7,4,1.3,1.3,6.75,0.19,0.06,0.167])).tolist()\n",
      "\n"
     ],
     "language": "python",
     "metadata": {},
     "outputs": [],
     "prompt_number": 7
    },
    {
     "cell_type": "code",
     "collapsed": false,
     "input": [
      "chain[0]\n",
      "#a = proposalfunction(startvalue)"
     ],
     "language": "python",
     "metadata": {},
     "outputs": [
      {
       "ename": "NameError",
       "evalue": "name 'chain' is not defined",
       "output_type": "pyerr",
       "traceback": [
        "\u001b[1;31m---------------------------------------------------------------------------\u001b[0m\n\u001b[1;31mNameError\u001b[0m                                 Traceback (most recent call last)",
        "\u001b[1;32m<ipython-input-8-3895236a87a9>\u001b[0m in \u001b[0;36m<module>\u001b[1;34m()\u001b[0m\n\u001b[1;32m----> 1\u001b[1;33m \u001b[0mchain\u001b[0m\u001b[1;33m[\u001b[0m\u001b[1;36m0\u001b[0m\u001b[1;33m]\u001b[0m\u001b[1;33m\u001b[0m\u001b[0m\n\u001b[0m\u001b[0;32m      2\u001b[0m \u001b[1;31m#a = proposalfunction(startvalue)\u001b[0m\u001b[1;33m\u001b[0m\u001b[1;33m\u001b[0m\u001b[0m\n",
        "\u001b[1;31mNameError\u001b[0m: name 'chain' is not defined"
       ]
      }
     ],
     "prompt_number": 8
    },
    {
     "cell_type": "code",
     "collapsed": false,
     "input": [
      "# To make chain list\n",
      "def make_chainlist(list):\n",
      "    chain = []\n",
      "    for item in list:\n",
      "        temp =[item]\n",
      "        chain.append(temp)\n",
      "    return chain\n"
     ],
     "language": "python",
     "metadata": {},
     "outputs": [],
     "prompt_number": 9
    },
    {
     "cell_type": "code",
     "collapsed": false,
     "input": [
      "\n",
      "\n",
      "\n",
      "#Run metro-polis MCMC\n",
      "def run_metropolis_MCMC(startvalue, iterations):\n",
      "    chain = [[0 for x in xrange(12)] for x in xrange(iterations)]\n",
      "    chain[0][0] = startvalue[0]\n",
      "    chain[0][1] = startvalue[1]\n",
      "    chain[0][2] = startvalue[2]\n",
      "    chain[0][3] = startvalue[3]\n",
      "    chain[0][4] = startvalue[4]\n",
      "    chain[0][5] = startvalue[5]\n",
      "    chain[0][6] = startvalue[6]\n",
      "    chain[0][7] = startvalue[7]\n",
      "    chain[0][8] = startvalue[8]\n",
      "    chain[0][9] = startvalue[9]\n",
      "    chain[0][10] = startvalue[10]\n",
      "    chain[0][11] = startvalue[11]\n",
      "    prediction = -0.2177929 - 0.2458677 * chain[0][0] - 0.3842544 * chain[0][1] \\\n",
      "    - 0.0049753 * chain[0][2]  + 0.0176093 * chain[0][3] + 0.014322 * chain[0][4] \\\n",
      "    + 0.0125891 * chain[0][5] + 0.0518334 * chain[0][6] + 0.0026691 * chain[0][7] \\\n",
      "    + 0.0003318 * chain[0][8] + 0.5664563* chain[0][9] - 0.6163375 * chain[0][10] \\\n",
      "    - 0.0425599 * chain[0][11]\n",
      "    chain[0].append(prediction)        \n",
      "    for i in range(1,iterations):\n",
      "        proposal = proposalfunction(chain[i-1][:-1])\n",
      "        prediction = -0.2177929 - 0.2458677 * proposal[0] - 0.3842544 * proposal[1] \\\n",
      "    - 0.0049753 * proposal[2]  + 0.0176093 * proposal[3] + 0.014322 * proposal[4] \\\n",
      "    + 0.0125891 * proposal[5] + 0.0518334 * proposal[6] + 0.0026691 * proposal[7] \\\n",
      "    + 0.0003318 * proposal[8] + 0.5664563* proposal[9] - 0.6163375 * proposal[10] \\\n",
      "    - 0.0425599 * proposal[11]\n",
      "        proposal.append(prediction)\n",
      "        probab = min(1, math.exp(posterior(proposal) - posterior(chain[i-1])))\n",
      "        if np.random.uniform() < probab:\n",
      "            chain[i] = list(proposal)\n",
      "        else:\n",
      "            chain[i] = list(chain[i-1])\n",
      "    return chain\n",
      "\n"
     ],
     "language": "python",
     "metadata": {},
     "outputs": [],
     "prompt_number": 10
    },
    {
     "cell_type": "code",
     "collapsed": false,
     "input": [
      "\n",
      "\"\"\" \n",
      "    for i in range(1,iterations):\n",
      "        proposal = proposalfunction(chain[i-1])\n",
      "        chainlist = make_chainlist(proposal)\n",
      "        markup_values_pairs = dict(zip(['@@ROOF@@','@@WALL@@','@@WIN@@',\n",
      "                                '@@SHGC@@','@@EPD@@','@@LPD@@',\n",
      "                                '@@HSP@@','@@CSP@@','@@OCC@@',\n",
      "                                '@@INF@@','@@Boiler@@','@@COP@@'], chainlist))\n",
      "        # prepares jobs\n",
      "        markup_value_pairs = generate_markup_value_pairs(markup_values_pairs, count)\n",
      "        path = prepare_job_folders(output_folder, template_idf_path, eplus_basic_folder, markup_value_pairs)\n",
      "        prediction = run_eplus(path, totalarea)\n",
      "        proposal = proposal.append(prediction) \n",
      "        \n",
      "        probab = min(1, math.exp(posterior(proposal) - posterior(chain[i-1])))\n",
      "        if np.random.uniform() < probab :\n",
      "            chain[i] = list(proposal)\n",
      "        else:\n",
      "            chain[i] = list(chain[i-1])\n",
      "\"\"\""
     ],
     "language": "python",
     "metadata": {},
     "outputs": [
      {
       "metadata": {},
       "output_type": "pyout",
       "prompt_number": 11,
       "text": [
        "\" \\n    for i in range(1,iterations):\\n        proposal = proposalfunction(chain[i-1])\\n        chainlist = make_chainlist(proposal)\\n        markup_values_pairs = dict(zip(['@@ROOF@@','@@WALL@@','@@WIN@@',\\n                                '@@SHGC@@','@@EPD@@','@@LPD@@',\\n                                '@@HSP@@','@@CSP@@','@@OCC@@',\\n                                '@@INF@@','@@Boiler@@','@@COP@@'], chainlist))\\n        # prepares jobs\\n        markup_value_pairs = generate_markup_value_pairs(markup_values_pairs, count)\\n        path = prepare_job_folders(output_folder, template_idf_path, eplus_basic_folder, markup_value_pairs)\\n        prediction = run_eplus(path, totalarea)\\n        proposal = proposal.append(prediction) \\n        \\n        probab = min(1, math.exp(posterior(proposal) - posterior(chain[i-1])))\\n        if np.random.uniform() < probab :\\n            chain[i] = list(proposal)\\n        else:\\n            chain[i] = list(chain[i-1])\\n\""
       ]
      }
     ],
     "prompt_number": 11
    },
    {
     "cell_type": "code",
     "collapsed": false,
     "input": [
      "#Run\n",
      "\n",
      "# Observation value\n",
      "y = 1.7\n",
      "sd = 0.1\n",
      "startvalue = [0.09667, 0.055, 2.792, 0.5, 22.8, 14.5, 21, 24, 23.4, 0.675, 0.72, 2.65]\n",
      "iterations = 1\n",
      "\n"
     ],
     "language": "python",
     "metadata": {},
     "outputs": [],
     "prompt_number": 16
    },
    {
     "cell_type": "code",
     "collapsed": false,
     "input": [
      "# initial values\n",
      "template_idf_path = \"test/campusbuilding.idf\"\n",
      "eplus_basic_folder = \"test/basic_files\"\n",
      "output_folder = \"test/out\"\n",
      "#sys.argv[1]\n",
      "totalarea = 10336.99\n",
      "count = 1\n",
      "\n"
     ],
     "language": "python",
     "metadata": {},
     "outputs": [],
     "prompt_number": 17
    },
    {
     "cell_type": "code",
     "collapsed": false,
     "input": [
      "chain = make_chainlist(startvalue)\n",
      "markup_values_pairs = dict(zip(['@@ROOF@@','@@WALL@@','@@WIN@@',\n",
      "                                '@@SHGC@@','@@EPD@@','@@LPD@@',\n",
      "                                '@@HSP@@','@@CSP@@','@@OCC@@',\n",
      "                                '@@INF@@','@@Boiler@@','@@COP@@'], chain))\n",
      "\n",
      "markup_value_pairs = generate_markup_value_pairs(markup_values_pairs, count)\n",
      "path = prepare_job_folders(output_folder, template_idf_path, eplus_basic_folder, markup_value_pairs)\n",
      "markup_value_pairs\n",
      "path"
     ],
     "language": "python",
     "metadata": {},
     "outputs": [
      {
       "ename": "NameError",
       "evalue": "name 'generate_markup_value_pairs' is not defined",
       "output_type": "pyerr",
       "traceback": [
        "\u001b[1;31m---------------------------------------------------------------------------\u001b[0m\n\u001b[1;31mNameError\u001b[0m                                 Traceback (most recent call last)",
        "\u001b[1;32m<ipython-input-18-9273b4cdc251>\u001b[0m in \u001b[0;36m<module>\u001b[1;34m()\u001b[0m\n\u001b[0;32m      5\u001b[0m                                 '@@INF@@','@@Boiler@@','@@COP@@'], chain))\n\u001b[0;32m      6\u001b[0m \u001b[1;33m\u001b[0m\u001b[0m\n\u001b[1;32m----> 7\u001b[1;33m \u001b[0mmarkup_value_pairs\u001b[0m \u001b[1;33m=\u001b[0m \u001b[0mgenerate_markup_value_pairs\u001b[0m\u001b[1;33m(\u001b[0m\u001b[0mmarkup_values_pairs\u001b[0m\u001b[1;33m,\u001b[0m \u001b[0mcount\u001b[0m\u001b[1;33m)\u001b[0m\u001b[1;33m\u001b[0m\u001b[0m\n\u001b[0m\u001b[0;32m      8\u001b[0m \u001b[0mpath\u001b[0m \u001b[1;33m=\u001b[0m \u001b[0mprepare_job_folders\u001b[0m\u001b[1;33m(\u001b[0m\u001b[0moutput_folder\u001b[0m\u001b[1;33m,\u001b[0m \u001b[0mtemplate_idf_path\u001b[0m\u001b[1;33m,\u001b[0m \u001b[0meplus_basic_folder\u001b[0m\u001b[1;33m,\u001b[0m \u001b[0mmarkup_value_pairs\u001b[0m\u001b[1;33m)\u001b[0m\u001b[1;33m\u001b[0m\u001b[0m\n\u001b[0;32m      9\u001b[0m \u001b[0mmarkup_value_pairs\u001b[0m\u001b[1;33m\u001b[0m\u001b[0m\n",
        "\u001b[1;31mNameError\u001b[0m: name 'generate_markup_value_pairs' is not defined"
       ]
      }
     ],
     "prompt_number": 18
    },
    {
     "cell_type": "code",
     "collapsed": false,
     "input": [
      "import time\n",
      "start_time = time.time()\n",
      "chain = run_metropolis_MCMC(startvalue, iterations)\n",
      "print time.time() - start_time, \"seconds\"\n",
      "chain"
     ],
     "language": "python",
     "metadata": {},
     "outputs": [
      {
       "output_type": "stream",
       "stream": "stdout",
       "text": [
        "0.000999927520752 seconds\n"
       ]
      },
      {
       "metadata": {},
       "output_type": "pyout",
       "prompt_number": 19,
       "text": [
        "[[0.09667,\n",
        "  0.055,\n",
        "  2.792,\n",
        "  0.5,\n",
        "  22.8,\n",
        "  14.5,\n",
        "  21,\n",
        "  24,\n",
        "  23.4,\n",
        "  0.675,\n",
        "  0.72,\n",
        "  2.65,\n",
        "  1.227437427341]]"
       ]
      }
     ],
     "prompt_number": 19
    },
    {
     "cell_type": "markdown",
     "metadata": {},
     "source": [
      "CSV \ud30c\uc77c \ub9cc\ub4e4\uae30 - \uc131\uacf5"
     ]
    },
    {
     "cell_type": "code",
     "collapsed": false,
     "input": [
      "import csv\n",
      "with open(\"chain111.csv\", 'a') as outcsv:   \n",
      "#configure writer to write standart csv file\n",
      "    writer = csv.writer(outcsv, delimiter=',', quotechar='|', quoting=csv.QUOTE_MINIMAL, lineterminator='\\n')\n",
      "    writer.writerow(['ROOF','WALL','WIN','SHGC','EPD','LPD',\n",
      "                    'HSP','CSP','OCC','INF','Boiler','COP','EUI'])\n",
      "    for item in chain:\n",
      "#Write item to outcsv\n",
      "        writer.writerow([item[0], item[1], item[2], item[3], item[4], item[5], item[6], item[7],\n",
      "                         item[8], item[9], item[10], item[11], item[12]])"
     ],
     "language": "python",
     "metadata": {},
     "outputs": [],
     "prompt_number": 20
    },
    {
     "cell_type": "markdown",
     "metadata": {},
     "source": [
      "CSV \ud30c\uc77c \ub9cc\ub4e4\uae30 - \uc131\uacf5"
     ]
    },
    {
     "cell_type": "code",
     "collapsed": false,
     "input": [
      "import csv\n",
      "import os\n",
      "    \n",
      "with open(os.path.join(\"\", 'chain1.csv'), 'wb') as csvfile:\n",
      "    writer = csv.DictWriter(csvfile, fieldnames = ['ROOF','WALL','WIN','SHGC','EPD','LPD',\n",
      "                    'HSP','CSP','OCC','INF','Boiler','COP','EUI'], delimiter = ',')\n",
      "    writer.writeheader()\n",
      "    writer = csv.writer(csvfile)\n",
      "    writer.writerows(chain)"
     ],
     "language": "python",
     "metadata": {},
     "outputs": [],
     "prompt_number": 67
    },
    {
     "cell_type": "code",
     "collapsed": false,
     "input": [
      "from collections import OrderedDict\n",
      "ordered_fieldnames = OrderedDict([('ROOF',None),('WALL',None),('WIN',None),('SHGC',None),('EPD',None),\n",
      "                                  ('LPD',None),('HSP',None),('CSP',None),('OCC',None),('INF',None),\n",
      "                                  ('Boiler',None),('COP',None),('EUI',None)])\n",
      "with open(\"chain2.csv\",'wb') as f:\n",
      "    dw = csv.DictWriter(f, delimiter=',', fieldnames=ordered_fieldnames)\n",
      "    dw.writeheader()\n",
      "    # continue on to write data\n",
      "    dw = csv.writer(f)\n",
      "    for x in chain:\n",
      "        dw.writerows(x) "
     ],
     "language": "python",
     "metadata": {},
     "outputs": [
      {
       "ename": "ValueError",
       "evalue": "I/O operation on closed file",
       "output_type": "pyerr",
       "traceback": [
        "\u001b[1;31m---------------------------------------------------------------------------\u001b[0m\n\u001b[1;31mValueError\u001b[0m                                Traceback (most recent call last)",
        "\u001b[1;32m<ipython-input-52-9bc34865edf9>\u001b[0m in \u001b[0;36m<module>\u001b[1;34m()\u001b[0m\n\u001b[0;32m      8\u001b[0m     \u001b[1;31m# continue on to write data\u001b[0m\u001b[1;33m\u001b[0m\u001b[1;33m\u001b[0m\u001b[0m\n\u001b[0;32m      9\u001b[0m     \u001b[0mdw\u001b[0m \u001b[1;33m=\u001b[0m \u001b[0mcsv\u001b[0m\u001b[1;33m.\u001b[0m\u001b[0mwriter\u001b[0m\u001b[1;33m(\u001b[0m\u001b[0mf\u001b[0m\u001b[1;33m)\u001b[0m\u001b[1;33m\u001b[0m\u001b[0m\n\u001b[1;32m---> 10\u001b[1;33m     \u001b[1;32mfor\u001b[0m \u001b[0mx\u001b[0m \u001b[1;32min\u001b[0m \u001b[0mchain\u001b[0m\u001b[1;33m:\u001b[0m\u001b[1;33m\u001b[0m\u001b[0m\n\u001b[0m\u001b[0;32m     11\u001b[0m         \u001b[0mdw\u001b[0m\u001b[1;33m.\u001b[0m\u001b[0mwriterows\u001b[0m\u001b[1;33m(\u001b[0m\u001b[0mx\u001b[0m\u001b[1;33m)\u001b[0m\u001b[1;33m\u001b[0m\u001b[0m\n",
        "\u001b[1;31mValueError\u001b[0m: I/O operation on closed file"
       ]
      }
     ],
     "prompt_number": 52
    },
    {
     "cell_type": "markdown",
     "metadata": {},
     "source": [
      "2014/06/24\n",
      "\uc131\uacf5!\n"
     ]
    }
   ],
   "metadata": {}
  }
 ]
}