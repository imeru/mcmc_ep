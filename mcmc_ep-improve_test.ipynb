{
 "metadata": {
  "name": "",
  "signature": "sha256:b3a80e37cf95d16901bda5a15bb7fc00e2f80c83ab4ae2d01c176a32820581a8"
 },
 "nbformat": 3,
 "nbformat_minor": 0,
 "worksheets": [
  {
   "cells": [
    {
     "cell_type": "markdown",
     "metadata": {},
     "source": [
      "MCMC \ub0b4\uc5d0 \ubc14\uafd4\uc11c \uc5f0\uc2b5\uc911\n",
      "\uc5d0\ub108\uc9c0 \ud50c\ub7ec\uc2a4 \ub3cc\ub9ac\ub294 \uac83\uc744 \ubc14\uae65\uc73c\ub85c \uaebc\ub0c8\uc74c\n"
     ]
    },
    {
     "cell_type": "code",
     "collapsed": false,
     "input": [
      "# Import relevant modules\n",
      "import numpy as np\n",
      "import pandas as pd\n",
      "import math\n",
      "from scipy.stats import triang, norm"
     ],
     "language": "python",
     "metadata": {},
     "outputs": [
      {
       "output_type": "stream",
       "stream": "stderr",
       "text": [
        "C:\\Users\\imeru\\AppData\\Local\\Enthought\\Canopy\\User\\lib\\site-packages\\pandas\\io\\excel.py:626: UserWarning: Installed openpyxl is not supported at this time. Use >=1.6.1 and <2.0.0.\n",
        "  .format(openpyxl_compat.start_ver, openpyxl_compat.stop_ver))\n"
       ]
      }
     ],
     "prompt_number": 1
    },
    {
     "cell_type": "code",
     "collapsed": false,
     "input": [
      "def tri_logdensity(x, min, max, mode):\n",
      "    loc = min\n",
      "    scale = max - min\n",
      "    c = (mode - min)/scale\n",
      "    log_density = triang.logpdf(x = x, c = c, loc = loc, scale = scale)\n",
      "    return log_density\n"
     ],
     "language": "python",
     "metadata": {},
     "outputs": [],
     "prompt_number": 2
    },
    {
     "cell_type": "code",
     "collapsed": false,
     "input": [
      "# Priors \n",
      "def prior(param):\n",
      "    ROOF = param[0]\n",
      "    WALL = param[1]\n",
      "    WIN = param[2]\n",
      "    SHGC = param[3]\n",
      "    EPD = param[4]\n",
      "    LPD = param[5]\n",
      "    HSP = param[6]\n",
      "    CSP = param[7]\n",
      "    OCC = param[8]\n",
      "    INF = param[9]\n",
      "    Boiler = param[10]\n",
      "    COP = param[11]\n",
      "\n",
      "    ROOF_prior = tri_logdensity(x = ROOF, min = 0.01, max = 0.25, mode = 0.09667)\n",
      "    WALL_prior = tri_logdensity(x = WALL, min = 0.01, max = 0.25, mode = 0.055)\n",
      "    WIN_prior = tri_logdensity(x = WIN, min = 1, max = 5, mode = 2.792)\n",
      "    SHGC_prior = tri_logdensity(x = SHGC, min = 0.1, max = 0.9, mode = 0.5)\n",
      "    EPD_prior = tri_logdensity(x = EPD, min = 1, max = 70, mode = 22.8)\n",
      "    LPD_prior = tri_logdensity(x = LPD, min = 1, max = 50, mode = 14.5)\n",
      "    HSP_prior = tri_logdensity(x = HSP, min = 17, max = 28, mode = 21)\n",
      "    CSP_prior = tri_logdensity(x = CSP, min = 17, max = 28, mode = 24)\n",
      "    OCC_prior = tri_logdensity(x = OCC, min = 1, max = 50, mode = 23.4)\n",
      "    INF_prior = tri_logdensity(x = INF, min = 0.1, max = 2, mode = 0.675)\n",
      "    Boiler_prior = tri_logdensity(x = Boiler, min = 0.5, max = 0.99, mode = 0.72)\n",
      "    COP_prior = tri_logdensity(x = COP, min = 2, max = 4, mode = 2.65)\n",
      "    return ROOF_prior+WALL_prior+WIN_prior+SHGC_prior+EPD_prior+LPD_prior+HSP_prior+\\\n",
      "    CSP_prior+OCC_prior+INF_prior+Boiler_prior+COP_prior"
     ],
     "language": "python",
     "metadata": {},
     "outputs": [],
     "prompt_number": 3
    },
    {
     "cell_type": "code",
     "collapsed": false,
     "input": [
      "#Likelihood function\n",
      "def likelihood(param):\n",
      "    ROOF = param[0]\n",
      "    WALL = param[1]\n",
      "    WIN = param[2]\n",
      "    SHGC = param[3]\n",
      "    EPD = param[4]\n",
      "    LPD = param[5]\n",
      "    HSP = param[6]\n",
      "    CSP = param[7]\n",
      "    OCC = param[8]\n",
      "    INF = param[9]\n",
      "    Boiler = param[10]\n",
      "    COP = param[11]\n",
      "    \n",
      "    \"\"\"\n",
      "    #---------------------------------\n",
      "    #to do: get the EUI from energyplus\n",
      "    prediction = -0.2177929 - 0.2458677 * ROOF - 0.3842544 * WALL - 0.0049753 * WIN  \\\n",
      "        + 0.0176093 * SHGC + 0.014322 * EPD + 0.0125891 * LPD + 0.0518334 * HSP \\\n",
      "        +0.0026691 * CSP + 0.0003318 * OCC + 0.5664563* INF - 0.6163375 * Boiler \\\n",
      "        - 0.0425599 * COP\n",
      "    #---------------------------------\n",
      "    \"\"\"\n",
      "    prediction = param[12]\n",
      "    singlelikelihoods = norm.logpdf(x=y, loc=prediction, scale=sd)\n",
      "    #sumll = sum(singlelikelihoods)\n",
      "    return singlelikelihoods\n",
      "\n",
      "    \n",
      "    "
     ],
     "language": "python",
     "metadata": {},
     "outputs": [],
     "prompt_number": 4
    },
    {
     "cell_type": "code",
     "collapsed": false,
     "input": [
      "#Posterior \n",
      "def posterior(param):\n",
      "    return likelihood(param) + prior(param)\n"
     ],
     "language": "python",
     "metadata": {},
     "outputs": [],
     "prompt_number": 5
    },
    {
     "cell_type": "code",
     "collapsed": false,
     "input": [
      "#Proposal function\n",
      "\n",
      "def proposalfunction(param):\n",
      "    return abs(np.random.normal(loc=param, scale=[0.02,0.015,0.43,0.1,7,4,1.3,1.3,6.75,0.19,0.06,0.167]))\n",
      "\n"
     ],
     "language": "python",
     "metadata": {},
     "outputs": [],
     "prompt_number": 6
    },
    {
     "cell_type": "code",
     "collapsed": false,
     "input": [
      "# To make chain list\n",
      "def make_chainlist(list):\n",
      "    chain = []\n",
      "    for item in list:\n",
      "        temp =[item]\n",
      "        chain.append(temp)\n",
      "    return chain\n"
     ],
     "language": "python",
     "metadata": {},
     "outputs": [],
     "prompt_number": 7
    },
    {
     "cell_type": "code",
     "collapsed": false,
     "input": [
      "#Run metro-polis MCMC\n",
      "def run_metropolis_MCMC(startvalue, iterations):\n",
      "    chain = [[0 for x in xrange(12)] for x in xrange(iterations)]\n",
      "    chain[0] = startvalue\n",
      "    for i in range(1,iterations):\n",
      "        proposal = proposalfunction(chain[i-1])\n",
      "        temp1 = posterior(proposal)\n",
      "        temp2 = posterior(chain[i-1])\n",
      "        probab = min(1, math.exp(temp1[0] - temp2[0]))\n",
      "        if np.random.uniform() < probab:\n",
      "            chain[i] = list(proposal)\n",
      "            chain[i] = chain[i].append(temp1[1])\n",
      "        else:\n",
      "            chain[i] = list(chain[i-1])\n",
      "            chain[i] = chain[i-1].append(temp2[1])\n",
      "    return chain"
     ],
     "language": "python",
     "metadata": {},
     "outputs": [],
     "prompt_number": 8
    },
    {
     "cell_type": "code",
     "collapsed": false,
     "input": [
      "#Run metro-polis MCMC ######################################TEST\n",
      "def run_metropolis_MCMC(startvalue, iterations, output_folder, template_idf_path, eplus_basic_folder, path, totalarea):\n",
      "    chain = [[0 for x in xrange(12)] for x in xrange(iterations)]\n",
      "    chain[0] = startvalue\n",
      "    count = 1\n",
      "    prediction = run_eplus(path, totalarea)\n",
      "    chain[0] = chain[0].append(prediction)\n",
      "    return chain\n",
      "\n"
     ],
     "language": "python",
     "metadata": {},
     "outputs": [],
     "prompt_number": 9
    },
    {
     "cell_type": "code",
     "collapsed": false,
     "input": [
      "\n",
      "\"\"\" \n",
      "    for i in range(1,iterations):\n",
      "        proposal = proposalfunction(chain[i-1])\n",
      "        chainlist = make_chainlist(proposal)\n",
      "        markup_values_pairs = dict(zip(['@@ROOF@@','@@WALL@@','@@WIN@@',\n",
      "                                '@@SHGC@@','@@EPD@@','@@LPD@@',\n",
      "                                '@@HSP@@','@@CSP@@','@@OCC@@',\n",
      "                                '@@INF@@','@@Boiler@@','@@COP@@'], chainlist))\n",
      "        # prepares jobs\n",
      "        markup_value_pairs = generate_markup_value_pairs(markup_values_pairs, count)\n",
      "        path = prepare_job_folders(output_folder, template_idf_path, eplus_basic_folder, markup_value_pairs)\n",
      "        prediction = run_eplus(path, totalarea)\n",
      "        proposal = proposal.append(prediction) \n",
      "        \n",
      "        probab = min(1, math.exp(posterior(proposal) - posterior(chain[i-1])))\n",
      "        if np.random.uniform() < probab :\n",
      "            chain[i] = list(proposal)\n",
      "        else:\n",
      "            chain[i] = list(chain[i-1])\n",
      "\"\"\""
     ],
     "language": "python",
     "metadata": {},
     "outputs": []
    },
    {
     "cell_type": "code",
     "collapsed": false,
     "input": [
      "#Run\n",
      "\n",
      "# Observation value\n",
      "y = 1.7\n",
      "sd = 0.1\n",
      "startvalue = [0.09667, 0.055, 2.792, 0.5, 22.8, 14.5, 21, 24, 23.4, 0.675, 0.72, 2.65]\n",
      "iterations = 3\n",
      "\n"
     ],
     "language": "python",
     "metadata": {},
     "outputs": [],
     "prompt_number": 10
    },
    {
     "cell_type": "code",
     "collapsed": false,
     "input": [
      "# initial values\n",
      "template_idf_path = \"test/campusbuilding.idf\"\n",
      "eplus_basic_folder = \"test/basic_files\"\n",
      "output_folder = \"test/out\"\n",
      "#sys.argv[1]\n",
      "totalarea = 10336.99\n",
      "count = 1\n",
      "\n",
      "chain = make_chainlist(startvalue)\n",
      "markup_values_pairs = dict(zip(['@@ROOF@@','@@WALL@@','@@WIN@@',\n",
      "                                '@@SHGC@@','@@EPD@@','@@LPD@@',\n",
      "                                '@@HSP@@','@@CSP@@','@@OCC@@',\n",
      "                                '@@INF@@','@@Boiler@@','@@COP@@'], chain))\n",
      "\n",
      "markup_value_pairs = generate_markup_value_pairs(markup_values_pairs, count)\n",
      "path = prepare_job_folders(output_folder, template_idf_path, eplus_basic_folder, markup_value_pairs)\n",
      "markup_value_pairs\n",
      "path"
     ],
     "language": "python",
     "metadata": {},
     "outputs": [
      {
       "metadata": {},
       "output_type": "pyout",
       "prompt_number": 14,
       "text": [
        "'test/out/0'"
       ]
      }
     ],
     "prompt_number": 14
    },
    {
     "cell_type": "code",
     "collapsed": false,
     "input": [
      "import time\n",
      "start_time = time.time()\n",
      "chain = run_metropolis_MCMC(startvalue, iterations, output_folder, template_idf_path, eplus_basic_folder, path, totalarea)\n",
      "print time.time() - start_time, \"seconds\"\n",
      "chain"
     ],
     "language": "python",
     "metadata": {},
     "outputs": [
      {
       "output_type": "stream",
       "stream": "stdout",
       "text": [
        "81.0590000153 seconds\n"
       ]
      },
      {
       "metadata": {},
       "output_type": "pyout",
       "prompt_number": 15,
       "text": [
        "[None,\n",
        " [0, 0, 0, 0, 0, 0, 0, 0, 0, 0, 0, 0],\n",
        " [0, 0, 0, 0, 0, 0, 0, 0, 0, 0, 0, 0]]"
       ]
      }
     ],
     "prompt_number": 15
    },
    {
     "cell_type": "markdown",
     "metadata": {},
     "source": [
      "Run metro-polis MCMC practice!!!"
     ]
    },
    {
     "cell_type": "code",
     "collapsed": false,
     "input": [
      "import sys\n",
      "import os\n",
      "import shutil\n",
      "import csv\n",
      "from subprocess import call\n",
      "\n",
      "def replace_markup(line, markup_value_pairs):\n",
      "    for markup in markup_value_pairs.keys():\n",
      "        line = line.replace(markup, str(markup_value_pairs[markup]))\n",
      "    return line\n",
      "\n",
      "\n",
      "def generate_markup_value_pairs(markup_values_pairs, count):\n",
      "    markup_value_pairs  = []\n",
      "    for index in range(count):\n",
      "        markup_value = {}\n",
      "        for key in markup_values_pairs:\n",
      "            markup_value[key] = markup_values_pairs[key].pop()\n",
      "        markup_value_pairs.append(markup_value)\n",
      "    return markup_value_pairs\n",
      "\n",
      "\n",
      "def write_idf(template_path, output_path, markup_value_pairs):\n",
      "    origin = open(template_path, 'r')\n",
      "    new = open(output_path, 'w')\n",
      "    for line in origin:\n",
      "        replaced_line = replace_markup(line, markup_value_pairs)\n",
      "        new.write(replaced_line)\n",
      "    origin.close()\n",
      "    new.close()\n",
      "\n",
      "           \n",
      "def copy_files(orig, dest):\n",
      "    files = os.listdir(orig)\n",
      "    for file_name in files:\n",
      "        file_path = os.path.join(orig, file_name)\n",
      "        shutil.copy(file_path, dest)\n",
      "\n",
      "def prepare_job_folders(output_folder, template_idf_path,\n",
      "                        eplus_basic_folder, markup_value_pairs):\n",
      "    # check output path\n",
      "    if os.path.exists(output_folder):\n",
      "        shutil.rmtree(output_folder)\n",
      "    pathes = []\n",
      "    for index, markup_value_pair in enumerate(markup_value_pairs):\n",
      "        path_to_write = output_folder + \"/\" + str(index)\n",
      "        pathes.append(path_to_write)\n",
      "        output_path = path_to_write + \"/\" + \"in.idf\"\n",
      "        os.makedirs(path_to_write)\n",
      "        copy_files(eplus_basic_folder, path_to_write)\n",
      "        write_idf(template_idf_path, output_path, markup_value_pair)\n",
      "        path = pathes[0]\n",
      "    return path\n",
      "\n",
      "    \n",
      "\n",
      "def run_eplus(path, totalarea):\n",
      "    current_dir = os.getcwd()\n",
      "    os.chdir(path)\n",
      "    call([\"EnergyPlus\"])\n",
      "    call([\"ReadVarsESO\", \"my_results.rvi\"])\n",
      "    eui = get_eui(totalarea)\n",
      "    os.chdir(current_dir)\n",
      "    return eui \n",
      "\n",
      "\n",
      "def get_eui(totalarea):\n",
      "    with open('eplusout.csv', 'rb') as f:\n",
      "        reader = csv.reader(f)\n",
      "        reader = list(reader)\n",
      "        gas = float(reader[1][1])\n",
      "        elec = float(reader[1][2])\n",
      "        eui = (gas + elec) / totalarea / 10e8\n",
      "    return eui\n",
      "\n"
     ],
     "language": "python",
     "metadata": {},
     "outputs": [],
     "prompt_number": 13
    },
    {
     "cell_type": "code",
     "collapsed": false,
     "input": [
      "def hyun(a,b):\n",
      "    sum = a + b\n",
      "    deff = a - b\n",
      "    return sum, deff"
     ],
     "language": "python",
     "metadata": {},
     "outputs": [],
     "prompt_number": 25
    },
    {
     "cell_type": "code",
     "collapsed": false,
     "input": [
      "hyun(8,4)"
     ],
     "language": "python",
     "metadata": {},
     "outputs": [
      {
       "metadata": {},
       "output_type": "pyout",
       "prompt_number": 27,
       "text": [
        "(12, 4)"
       ]
      }
     ],
     "prompt_number": 27
    },
    {
     "cell_type": "code",
     "collapsed": false,
     "input": [
      "hyun(8,5)[0]"
     ],
     "language": "python",
     "metadata": {},
     "outputs": [
      {
       "metadata": {},
       "output_type": "pyout",
       "prompt_number": 29,
       "text": [
        "13"
       ]
      }
     ],
     "prompt_number": 29
    },
    {
     "cell_type": "markdown",
     "metadata": {},
     "source": [
      "2014/06/24\n",
      "\ud574\uc57c\ud560\uc77c: <br>\n",
      "    \uc5d0\ub108\uc9c0\ud50c\ub7ec\uc2a4 \ub9d0\uace0 \ub9ac\ub2c8\uc5b4 \ubaa8\ub378\ub85c \ub0b4\uac00 \uc0dd\uac01\ud558\ub294\uac70 \uc791\uc131\ud574\ubcf4\uae30 \ub418\ub098 \uc548\ub418\ub098. (chain + prediction \uac12 \ud569\uccd0\uc11c  chain \uc5d0 \ub123\ub294 \ubc29\ubc95!)<br>\n",
      "    csv file \ub9cc\ub4e4\uae30\ub3c4 \uc2dc\ub3c4.<br>\n",
      "    \uc2dc\uac04\uc808\uc57d\ud558\ub294 \ubc29\ubc95/ ex) \ub611\uac19\uc73c\uba74 \uc5d0\ub108\uc9c0\ud50c\ub7ec\uc2a4\ub97c \uc0dd\ub7b5\ud558\ub294 \ubc29\ubc95?<br>\n"
     ]
    }
   ],
   "metadata": {}
  }
 ]
}