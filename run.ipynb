{
 "metadata": {
  "name": "",
  "signature": "sha256:d3f4f567bc77360a98076549aea7f9e3fb25b5b61d1e3a9e9e9592e010594263"
 },
 "nbformat": 3,
 "nbformat_minor": 0,
 "worksheets": [
  {
   "cells": [
    {
     "cell_type": "markdown",
     "metadata": {},
     "source": [
      "2014/06/19"
     ]
    },
    {
     "cell_type": "code",
     "collapsed": false,
     "input": [
      "startvalues = [0.09667, 0.055, 2.792, 0.5, 22.8, 14.5, 21, 24, 23.4, 0.675, 0.72, 2.65]"
     ],
     "language": "python",
     "metadata": {},
     "outputs": [],
     "prompt_number": 199
    },
    {
     "cell_type": "code",
     "collapsed": false,
     "input": [
      "# Driver\n",
      "import sys\n",
      "import os\n",
      "import shutil\n",
      "import csv\n",
      "from mplus import run_eplus_multi\n",
      "\n",
      "\n",
      "# initial values\n",
      "template_idf_path = \"test/campusbuilding.idf\"\n",
      "eplus_basic_folder = \"test/basic_files\"\n",
      "output_folder = \"test/out\"\n",
      "#sys.argv[1]\n",
      "\n",
      "# check output path\n",
      "if os.path.exists(output_folder):\n",
      "    shutil.rmtree(output_folder)\n",
      "\n",
      "# prepares jobs\n",
      "chain = []\n",
      "for item in startvalues:\n",
      "    temp =[item]\n",
      "    chain.append(temp)\n",
      "\n",
      "markup_values_pairs = dict(zip(['@@ROOF@@','@@WALL@@','@@WIN@@',\n",
      "                                '@@SHGC@@','@@EPD@@','@@LPD@@',\n",
      "                                '@@HSP@@','@@CSP@@','@@OCC@@',\n",
      "                                '@@INF@@','@@Boiler@@','@@COP@@'], chain))\n",
      "count = 1\n"
     ],
     "language": "python",
     "metadata": {},
     "outputs": [],
     "prompt_number": 200
    },
    {
     "cell_type": "code",
     "collapsed": false,
     "input": [
      "\n"
     ],
     "language": "python",
     "metadata": {},
     "outputs": [
      {
       "metadata": {},
       "output_type": "pyout",
       "prompt_number": 201,
       "text": [
        "[{'@@Boiler@@': 0.72,\n",
        "  '@@COP@@': 2.65,\n",
        "  '@@CSP@@': 24,\n",
        "  '@@EPD@@': 22.8,\n",
        "  '@@HSP@@': 21,\n",
        "  '@@INF@@': 0.675,\n",
        "  '@@LPD@@': 14.5,\n",
        "  '@@OCC@@': 23.4,\n",
        "  '@@ROOF@@': 0.09667,\n",
        "  '@@SHGC@@': 0.5,\n",
        "  '@@WALL@@': 0.055,\n",
        "  '@@WIN@@': 2.792}]"
       ]
      }
     ],
     "prompt_number": 201
    },
    {
     "cell_type": "code",
     "collapsed": false,
     "input": [
      "# Execute Energyplys \n",
      "\n",
      "import sys\n",
      "import os\n",
      "import shutil\n",
      "import csv\n",
      "\n",
      "def replace_markup(line, markup_value_pairs):\n",
      "    for markup in markup_value_pairs.keys():\n",
      "        line = line.replace(markup, str(markup_value_pairs[markup]))\n",
      "    return line\n",
      "\n",
      "def generate_markup_value_pairs(markup_values_pairs, count) :\n",
      "    markup_value_pairs  = []\n",
      "    for index in range(count):\n",
      "        markup_value = {}\n",
      "        for key in markup_values_pairs:\n",
      "            markup_value[key] = markup_values_pairs[key].pop()\n",
      "        markup_value_pairs.append(markup_value)\n",
      "    return markup_value_pairs\n",
      "\n",
      "\n",
      "def write_idf(template_path, output_path, markup_value_pairs):\n",
      "    origin = open(template_path, 'r')\n",
      "    new = open(output_path, 'w')\n",
      "    for line in origin:\n",
      "        replaced_line = replace_markup(line, markup_value_pairs)\n",
      "        new.write(replaced_line)\n",
      "    origin.close()\n",
      "    new.close()\n",
      "\n",
      "    \n",
      "        \n",
      "def copy_files(orig, dest):\n",
      "    files = os.listdir(orig)\n",
      "    for file_name in files:\n",
      "        file_path = os.path.join(orig, file_name)\n",
      "        shutil.copy(file_path, dest)\n",
      "\n",
      "def prepare_job_folders(output_folder, template_idf_path,\n",
      "                        eplus_basic_folder, markup_value_pairs):\n",
      "    pathes = []\n",
      "    for index, markup_value_pair in enumerate(markup_value_pairs):\n",
      "        path_to_write = output_folder + \"/\" + str(index)\n",
      "        pathes.append(path_to_write)\n",
      "        output_path = path_to_write + \"/\" + \"in.idf\"\n",
      "        os.makedirs(path_to_write)\n",
      "        copy_files(eplus_basic_folder, path_to_write)\n",
      "        write_idf(template_idf_path, output_path, markup_value_pair)\n",
      "    return pathes\n"
     ],
     "language": "python",
     "metadata": {},
     "outputs": [],
     "prompt_number": 202
    },
    {
     "cell_type": "code",
     "collapsed": false,
     "input": [
      "\n",
      "markup_value_pairs = generate_markup_value_pairs(markup_values_pairs, count)    \n",
      "pathes = prepare_job_folders(output_folder, template_idf_path, eplus_basic_folder, markup_value_pairs)"
     ],
     "language": "python",
     "metadata": {},
     "outputs": [],
     "prompt_number": 203
    },
    {
     "cell_type": "code",
     "collapsed": false,
     "input": [
      "type(markup_value_pairs)"
     ],
     "language": "python",
     "metadata": {},
     "outputs": [
      {
       "metadata": {},
       "output_type": "pyout",
       "prompt_number": 77,
       "text": [
        "dict"
       ]
      }
     ],
     "prompt_number": 77
    }
   ],
   "metadata": {}
  }
 ]
}